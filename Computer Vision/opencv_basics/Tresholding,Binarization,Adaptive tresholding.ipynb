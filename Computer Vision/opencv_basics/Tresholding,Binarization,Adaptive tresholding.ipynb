{
 "cells": [
  {
   "cell_type": "code",
   "execution_count": 1,
   "metadata": {
    "collapsed": true
   },
   "outputs": [],
   "source": [
    "import cv2\n",
    "import numpy as np\n",
    "\n",
    "image = cv2.imread(\"F:\\\\Master OpenCV\\\\images\\\\gradient.jpg\",0)\n",
    "cv2.imshow(\"Original\",image)\n",
    "cv2.waitKey(0)\n",
    "\n",
    "#value below 127 goes to 0\n",
    "ret,thresh1 = cv2.threshold(image,127,255,cv2.THRESH_BINARY)\n",
    "cv2.imshow(\"1 Treshold binary\",thresh1)\n",
    "cv2.waitKey(0)\n",
    "#value below 127 goes to 255 and value below 127 goes to 255\n",
    "ret,thresh2 = cv2.threshold(image,127,255,cv2.THRESH_BINARY_INV)\n",
    "cv2.imshow(\"2 Treshold binary inverse\",thresh2)\n",
    "cv2.waitKey(0)\n",
    "\n",
    "#value above 127 are truncated(held) at 127(255 is unused\n",
    "ret,thresh3 = cv2.threshold(image,127,255,cv2.THRESH_TRUNC)\n",
    "cv2.imshow(\"3 Treshold Trunc\",thresh3)\n",
    "cv2.waitKey(0)\n",
    "\n",
    "#values below 127 goes to 0 and above in unchanged\n",
    "ret,thresh4 = cv2.threshold(image,127,255,cv2.THRESH_TOZERO)\n",
    "cv2.imshow(\"4 Treshold Tozero\",thresh4)\n",
    "cv2.waitKey(0)\n",
    "\n",
    "#values below 127 goes to 255 and above in changed to 0\n",
    "ret,thresh5 = cv2.threshold(image,127,255,cv2.THRESH_TOZERO_INV)\n",
    "cv2.imshow(\"5 Treshold Tozero Inverse\",thresh5)\n",
    "cv2.waitKey(0)\n",
    "cv2.destroyAllWindows()"
   ]
  },
  {
   "cell_type": "code",
   "execution_count": 2,
   "outputs": [],
   "source": [
    "img = cv2.imread(\"F:\\\\Master OpenCV\\\\images\\\\Origin_of_Species.jpg\",0)\n",
    "cv2.imshow(\"Original\",img)\n",
    "cv2.waitKey(0)\n",
    "\n",
    "ret,thresh1 = cv2.threshold(img,127,255,cv2.THRESH_BINARY)\n",
    "cv2.imshow(\"1 Treshold binary\",thresh1)\n",
    "cv2.waitKey(0)\n",
    "\n",
    "img = cv2.GaussianBlur(img,(3,3),0)\n",
    "thresh = cv2.adaptiveThreshold(img,255,cv2.ADAPTIVE_THRESH_MEAN_C,cv2.THRESH_BINARY,3,5)\n",
    "cv2.imshow(\"Adaptive\",img)\n",
    "\n",
    "_,th2 = cv2.threshold(img,0,255,cv2.THRESH_BINARY+cv2.THRESH_OTSU)\n",
    "cv2.imshow(\"Otsu Treshold\",th2)\n",
    "cv2.waitKey(0)\n",
    "\n",
    "blur = cv2.GaussianBlur(img,(5,5),0)\n",
    "_,th3 = cv2.threshold(blur,0,255,cv2.THRESH_BINARY+cv2.THRESH_OTSU)\n",
    "cv2.imshow(\"Gaussian Otsu Treshold\",th3)\n",
    "cv2.waitKey(0)\n",
    "\n",
    "cv2.destroyAllWindows()"
   ],
   "metadata": {
    "collapsed": false,
    "pycharm": {
     "name": "#%%\n"
    }
   }
  },
  {
   "cell_type": "code",
   "execution_count": null,
   "outputs": [],
   "source": [
    "\n"
   ],
   "metadata": {
    "collapsed": false,
    "pycharm": {
     "name": "#%%\n"
    }
   }
  }
 ],
 "metadata": {
  "kernelspec": {
   "display_name": "Python 3",
   "language": "python",
   "name": "python3"
  },
  "language_info": {
   "codemirror_mode": {
    "name": "ipython",
    "version": 2
   },
   "file_extension": ".py",
   "mimetype": "text/x-python",
   "name": "python",
   "nbconvert_exporter": "python",
   "pygments_lexer": "ipython2",
   "version": "2.7.6"
  }
 },
 "nbformat": 4,
 "nbformat_minor": 0
}