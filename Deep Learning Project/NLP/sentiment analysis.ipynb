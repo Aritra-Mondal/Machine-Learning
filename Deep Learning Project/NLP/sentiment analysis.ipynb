{
 "cells": [
  {
   "cell_type": "code",
   "execution_count": 1,
   "metadata": {
    "collapsed": true
   },
   "outputs": [],
   "source": [
    "import nltk"
   ]
  },
  {
   "cell_type": "code",
   "execution_count": 2,
   "outputs": [
    {
     "name": "stderr",
     "output_type": "stream",
     "text": [
      "[nltk_data] Downloading package vader_lexicon to\n",
      "[nltk_data]     C:\\Users\\aritr\\AppData\\Roaming\\nltk_data...\n",
      "[nltk_data]   Package vader_lexicon is already up-to-date!\n"
     ]
    },
    {
     "data": {
      "text/plain": "True"
     },
     "execution_count": 2,
     "metadata": {},
     "output_type": "execute_result"
    }
   ],
   "source": [
    "nltk.download('vader_lexicon')"
   ],
   "metadata": {
    "collapsed": false,
    "pycharm": {
     "name": "#%%\n"
    }
   }
  },
  {
   "cell_type": "code",
   "execution_count": 3,
   "outputs": [],
   "source": [
    "from nltk.sentiment.vader import SentimentIntensityAnalyzer"
   ],
   "metadata": {
    "collapsed": false,
    "pycharm": {
     "name": "#%%\n"
    }
   }
  },
  {
   "cell_type": "code",
   "execution_count": 4,
   "outputs": [],
   "source": [
    "sid = SentimentIntensityAnalyzer()"
   ],
   "metadata": {
    "collapsed": false,
    "pycharm": {
     "name": "#%%\n"
    }
   }
  },
  {
   "cell_type": "code",
   "execution_count": 5,
   "outputs": [],
   "source": [
    "import  pandas as pd"
   ],
   "metadata": {
    "collapsed": false,
    "pycharm": {
     "name": "#%%\n"
    }
   }
  },
  {
   "cell_type": "code",
   "execution_count": 6,
   "outputs": [],
   "source": [
    "df = pd.read_csv(\"F:\\\\Datasets\\\\Text Data\\\\amazonreviews.tsv\", sep='\\t')"
   ],
   "metadata": {
    "collapsed": false,
    "pycharm": {
     "name": "#%%\n"
    }
   }
  },
  {
   "cell_type": "code",
   "execution_count": 7,
   "outputs": [
    {
     "data": {
      "text/plain": "  label                                             review\n0   pos  Stuning even for the non-gamer: This sound tra...\n1   pos  The best soundtrack ever to anything.: I'm rea...\n2   pos  Amazing!: This soundtrack is my favorite music...\n3   pos  Excellent Soundtrack: I truly like this soundt...\n4   pos  Remember, Pull Your Jaw Off The Floor After He...",
      "text/html": "<div>\n<style scoped>\n    .dataframe tbody tr th:only-of-type {\n        vertical-align: middle;\n    }\n\n    .dataframe tbody tr th {\n        vertical-align: top;\n    }\n\n    .dataframe thead th {\n        text-align: right;\n    }\n</style>\n<table border=\"1\" class=\"dataframe\">\n  <thead>\n    <tr style=\"text-align: right;\">\n      <th></th>\n      <th>label</th>\n      <th>review</th>\n    </tr>\n  </thead>\n  <tbody>\n    <tr>\n      <th>0</th>\n      <td>pos</td>\n      <td>Stuning even for the non-gamer: This sound tra...</td>\n    </tr>\n    <tr>\n      <th>1</th>\n      <td>pos</td>\n      <td>The best soundtrack ever to anything.: I'm rea...</td>\n    </tr>\n    <tr>\n      <th>2</th>\n      <td>pos</td>\n      <td>Amazing!: This soundtrack is my favorite music...</td>\n    </tr>\n    <tr>\n      <th>3</th>\n      <td>pos</td>\n      <td>Excellent Soundtrack: I truly like this soundt...</td>\n    </tr>\n    <tr>\n      <th>4</th>\n      <td>pos</td>\n      <td>Remember, Pull Your Jaw Off The Floor After He...</td>\n    </tr>\n  </tbody>\n</table>\n</div>"
     },
     "execution_count": 7,
     "metadata": {},
     "output_type": "execute_result"
    }
   ],
   "source": [
    "df.head()"
   ],
   "metadata": {
    "collapsed": false,
    "pycharm": {
     "name": "#%%\n"
    }
   }
  },
  {
   "cell_type": "code",
   "execution_count": 8,
   "outputs": [
    {
     "data": {
      "text/plain": "array(['pos', 'neg'], dtype=object)"
     },
     "execution_count": 8,
     "metadata": {},
     "output_type": "execute_result"
    }
   ],
   "source": [
    "df.label.unique()"
   ],
   "metadata": {
    "collapsed": false,
    "pycharm": {
     "name": "#%%\n"
    }
   }
  },
  {
   "cell_type": "code",
   "execution_count": 9,
   "outputs": [
    {
     "data": {
      "text/plain": "neg    5097\npos    4903\nName: label, dtype: int64"
     },
     "execution_count": 9,
     "metadata": {},
     "output_type": "execute_result"
    }
   ],
   "source": [
    "df.label.value_counts()"
   ],
   "metadata": {
    "collapsed": false,
    "pycharm": {
     "name": "#%%\n"
    }
   }
  },
  {
   "cell_type": "code",
   "execution_count": 10,
   "outputs": [
    {
     "data": {
      "text/plain": "label     0\nreview    0\ndtype: int64"
     },
     "execution_count": 10,
     "metadata": {},
     "output_type": "execute_result"
    }
   ],
   "source": [
    "df.isnull().sum()\n"
   ],
   "metadata": {
    "collapsed": false,
    "pycharm": {
     "name": "#%%\n"
    }
   }
  },
  {
   "cell_type": "code",
   "execution_count": 11,
   "outputs": [],
   "source": [
    "blanks = []\n",
    "for i, lb, rv in df.itertuples():\n",
    "    if type(rv) == str:\n",
    "        if rv.isspace():\n",
    "            blanks.append(i)\n",
    "\n"
   ],
   "metadata": {
    "collapsed": false,
    "pycharm": {
     "name": "#%%\n"
    }
   }
  },
  {
   "cell_type": "code",
   "execution_count": 12,
   "outputs": [
    {
     "data": {
      "text/plain": "[]"
     },
     "execution_count": 12,
     "metadata": {},
     "output_type": "execute_result"
    }
   ],
   "source": [
    "blanks"
   ],
   "metadata": {
    "collapsed": false,
    "pycharm": {
     "name": "#%%\n"
    }
   }
  },
  {
   "cell_type": "code",
   "execution_count": 13,
   "outputs": [
    {
     "data": {
      "text/plain": "{'neg': 0.088, 'neu': 0.669, 'pos': 0.243, 'compound': 0.9454}"
     },
     "execution_count": 13,
     "metadata": {},
     "output_type": "execute_result"
    }
   ],
   "source": [
    "sid.polarity_scores(df.iloc[0]['review'])"
   ],
   "metadata": {
    "collapsed": false,
    "pycharm": {
     "name": "#%%\n"
    }
   }
  },
  {
   "cell_type": "code",
   "execution_count": 14,
   "outputs": [],
   "source": [
    "df['scores'] = df.review.apply(lambda review:sid.polarity_scores(review))"
   ],
   "metadata": {
    "collapsed": false,
    "pycharm": {
     "name": "#%%\n"
    }
   }
  },
  {
   "cell_type": "code",
   "execution_count": 15,
   "outputs": [],
   "source": [
    "df[\"compound\"] = df.scores.apply(lambda d:d[\"compound\"])"
   ],
   "metadata": {
    "collapsed": false,
    "pycharm": {
     "name": "#%%\n"
    }
   }
  },
  {
   "cell_type": "code",
   "execution_count": 16,
   "outputs": [
    {
     "data": {
      "text/plain": "  label                                             review  \\\n0   pos  Stuning even for the non-gamer: This sound tra...   \n1   pos  The best soundtrack ever to anything.: I'm rea...   \n2   pos  Amazing!: This soundtrack is my favorite music...   \n3   pos  Excellent Soundtrack: I truly like this soundt...   \n4   pos  Remember, Pull Your Jaw Off The Floor After He...   \n\n                                              scores  compound  \n0  {'neg': 0.088, 'neu': 0.669, 'pos': 0.243, 'co...    0.9454  \n1  {'neg': 0.018, 'neu': 0.837, 'pos': 0.145, 'co...    0.8957  \n2  {'neg': 0.04, 'neu': 0.692, 'pos': 0.268, 'com...    0.9858  \n3  {'neg': 0.09, 'neu': 0.615, 'pos': 0.295, 'com...    0.9814  \n4  {'neg': 0.0, 'neu': 0.746, 'pos': 0.254, 'comp...    0.9781  ",
      "text/html": "<div>\n<style scoped>\n    .dataframe tbody tr th:only-of-type {\n        vertical-align: middle;\n    }\n\n    .dataframe tbody tr th {\n        vertical-align: top;\n    }\n\n    .dataframe thead th {\n        text-align: right;\n    }\n</style>\n<table border=\"1\" class=\"dataframe\">\n  <thead>\n    <tr style=\"text-align: right;\">\n      <th></th>\n      <th>label</th>\n      <th>review</th>\n      <th>scores</th>\n      <th>compound</th>\n    </tr>\n  </thead>\n  <tbody>\n    <tr>\n      <th>0</th>\n      <td>pos</td>\n      <td>Stuning even for the non-gamer: This sound tra...</td>\n      <td>{'neg': 0.088, 'neu': 0.669, 'pos': 0.243, 'co...</td>\n      <td>0.9454</td>\n    </tr>\n    <tr>\n      <th>1</th>\n      <td>pos</td>\n      <td>The best soundtrack ever to anything.: I'm rea...</td>\n      <td>{'neg': 0.018, 'neu': 0.837, 'pos': 0.145, 'co...</td>\n      <td>0.8957</td>\n    </tr>\n    <tr>\n      <th>2</th>\n      <td>pos</td>\n      <td>Amazing!: This soundtrack is my favorite music...</td>\n      <td>{'neg': 0.04, 'neu': 0.692, 'pos': 0.268, 'com...</td>\n      <td>0.9858</td>\n    </tr>\n    <tr>\n      <th>3</th>\n      <td>pos</td>\n      <td>Excellent Soundtrack: I truly like this soundt...</td>\n      <td>{'neg': 0.09, 'neu': 0.615, 'pos': 0.295, 'com...</td>\n      <td>0.9814</td>\n    </tr>\n    <tr>\n      <th>4</th>\n      <td>pos</td>\n      <td>Remember, Pull Your Jaw Off The Floor After He...</td>\n      <td>{'neg': 0.0, 'neu': 0.746, 'pos': 0.254, 'comp...</td>\n      <td>0.9781</td>\n    </tr>\n  </tbody>\n</table>\n</div>"
     },
     "execution_count": 16,
     "metadata": {},
     "output_type": "execute_result"
    }
   ],
   "source": [
    "df.head()"
   ],
   "metadata": {
    "collapsed": false,
    "pycharm": {
     "name": "#%%\n"
    }
   }
  },
  {
   "cell_type": "code",
   "execution_count": 17,
   "outputs": [],
   "source": [
    "df[\"comp_score\"] = df.compound.apply(lambda score:'pos' if score>=0 else 'neg')"
   ],
   "metadata": {
    "collapsed": false,
    "pycharm": {
     "name": "#%%\n"
    }
   }
  },
  {
   "cell_type": "code",
   "execution_count": 18,
   "outputs": [
    {
     "data": {
      "text/plain": "  label                                             review  \\\n0   pos  Stuning even for the non-gamer: This sound tra...   \n1   pos  The best soundtrack ever to anything.: I'm rea...   \n2   pos  Amazing!: This soundtrack is my favorite music...   \n3   pos  Excellent Soundtrack: I truly like this soundt...   \n4   pos  Remember, Pull Your Jaw Off The Floor After He...   \n\n                                              scores  compound comp_score  \n0  {'neg': 0.088, 'neu': 0.669, 'pos': 0.243, 'co...    0.9454        pos  \n1  {'neg': 0.018, 'neu': 0.837, 'pos': 0.145, 'co...    0.8957        pos  \n2  {'neg': 0.04, 'neu': 0.692, 'pos': 0.268, 'com...    0.9858        pos  \n3  {'neg': 0.09, 'neu': 0.615, 'pos': 0.295, 'com...    0.9814        pos  \n4  {'neg': 0.0, 'neu': 0.746, 'pos': 0.254, 'comp...    0.9781        pos  ",
      "text/html": "<div>\n<style scoped>\n    .dataframe tbody tr th:only-of-type {\n        vertical-align: middle;\n    }\n\n    .dataframe tbody tr th {\n        vertical-align: top;\n    }\n\n    .dataframe thead th {\n        text-align: right;\n    }\n</style>\n<table border=\"1\" class=\"dataframe\">\n  <thead>\n    <tr style=\"text-align: right;\">\n      <th></th>\n      <th>label</th>\n      <th>review</th>\n      <th>scores</th>\n      <th>compound</th>\n      <th>comp_score</th>\n    </tr>\n  </thead>\n  <tbody>\n    <tr>\n      <th>0</th>\n      <td>pos</td>\n      <td>Stuning even for the non-gamer: This sound tra...</td>\n      <td>{'neg': 0.088, 'neu': 0.669, 'pos': 0.243, 'co...</td>\n      <td>0.9454</td>\n      <td>pos</td>\n    </tr>\n    <tr>\n      <th>1</th>\n      <td>pos</td>\n      <td>The best soundtrack ever to anything.: I'm rea...</td>\n      <td>{'neg': 0.018, 'neu': 0.837, 'pos': 0.145, 'co...</td>\n      <td>0.8957</td>\n      <td>pos</td>\n    </tr>\n    <tr>\n      <th>2</th>\n      <td>pos</td>\n      <td>Amazing!: This soundtrack is my favorite music...</td>\n      <td>{'neg': 0.04, 'neu': 0.692, 'pos': 0.268, 'com...</td>\n      <td>0.9858</td>\n      <td>pos</td>\n    </tr>\n    <tr>\n      <th>3</th>\n      <td>pos</td>\n      <td>Excellent Soundtrack: I truly like this soundt...</td>\n      <td>{'neg': 0.09, 'neu': 0.615, 'pos': 0.295, 'com...</td>\n      <td>0.9814</td>\n      <td>pos</td>\n    </tr>\n    <tr>\n      <th>4</th>\n      <td>pos</td>\n      <td>Remember, Pull Your Jaw Off The Floor After He...</td>\n      <td>{'neg': 0.0, 'neu': 0.746, 'pos': 0.254, 'comp...</td>\n      <td>0.9781</td>\n      <td>pos</td>\n    </tr>\n  </tbody>\n</table>\n</div>"
     },
     "execution_count": 18,
     "metadata": {},
     "output_type": "execute_result"
    }
   ],
   "source": [
    "df.head()"
   ],
   "metadata": {
    "collapsed": false,
    "pycharm": {
     "name": "#%%\n"
    }
   }
  },
  {
   "cell_type": "code",
   "execution_count": 19,
   "outputs": [],
   "source": [
    "from sklearn.metrics import accuracy_score, confusion_matrix, classification_report"
   ],
   "metadata": {
    "collapsed": false,
    "pycharm": {
     "name": "#%%\n"
    }
   }
  },
  {
   "cell_type": "code",
   "execution_count": 20,
   "outputs": [
    {
     "data": {
      "text/plain": "0.7092"
     },
     "execution_count": 20,
     "metadata": {},
     "output_type": "execute_result"
    }
   ],
   "source": [
    "accuracy_score(df.label,df.comp_score)"
   ],
   "metadata": {
    "collapsed": false,
    "pycharm": {
     "name": "#%%\n"
    }
   }
  },
  {
   "cell_type": "code",
   "execution_count": 21,
   "outputs": [
    {
     "name": "stdout",
     "output_type": "stream",
     "text": [
      "[[2623 2474]\n",
      " [ 434 4469]]\n"
     ]
    }
   ],
   "source": [
    "print(confusion_matrix(df.label,df.comp_score))"
   ],
   "metadata": {
    "collapsed": false,
    "pycharm": {
     "name": "#%%\n"
    }
   }
  },
  {
   "cell_type": "code",
   "execution_count": 22,
   "outputs": [
    {
     "name": "stdout",
     "output_type": "stream",
     "text": [
      "              precision    recall  f1-score   support\n",
      "\n",
      "         neg       0.86      0.51      0.64      5097\n",
      "         pos       0.64      0.91      0.75      4903\n",
      "\n",
      "    accuracy                           0.71     10000\n",
      "   macro avg       0.75      0.71      0.70     10000\n",
      "weighted avg       0.75      0.71      0.70     10000\n",
      "\n"
     ]
    }
   ],
   "source": [
    "print(classification_report(df.label,df.comp_score))"
   ],
   "metadata": {
    "collapsed": false,
    "pycharm": {
     "name": "#%%\n"
    }
   }
  },
  {
   "cell_type": "code",
   "execution_count": 22,
   "outputs": [],
   "source": [
    "\n"
   ],
   "metadata": {
    "collapsed": false,
    "pycharm": {
     "name": "#%%\n"
    }
   }
  }
 ],
 "metadata": {
  "kernelspec": {
   "display_name": "Python 3",
   "language": "python",
   "name": "python3"
  },
  "language_info": {
   "codemirror_mode": {
    "name": "ipython",
    "version": 2
   },
   "file_extension": ".py",
   "mimetype": "text/x-python",
   "name": "python",
   "nbconvert_exporter": "python",
   "pygments_lexer": "ipython2",
   "version": "2.7.6"
  }
 },
 "nbformat": 4,
 "nbformat_minor": 0
}