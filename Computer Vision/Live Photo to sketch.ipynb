{
 "cells": [
  {
   "cell_type": "code",
   "execution_count": 1,
   "metadata": {
    "collapsed": true
   },
   "outputs": [],
   "source": [
    "import cv2\n",
    "import numpy as np\n",
    "\n",
    "def sketch(image):\n",
    "    grey_image = cv2.cvtColor(image,cv2.COLOR_BGR2GRAY)\n",
    "    blur = cv2.GaussianBlur(grey_image,(5,5),0)\n",
    "    canny = cv2.Canny(blur,10,70)\n",
    "    ret,mask = cv2.threshold(canny,70,255,cv2.THRESH_BINARY_INV)\n",
    "    return  mask\n",
    "\n",
    "cap = cv2.VideoCapture(0)\n",
    "while True:\n",
    "     ret,frame = cap.read()\n",
    "     cv2.imshow(\"Our Live Sketcher\",sketch(frame))\n",
    "     if cv2.waitKey(1) == 13:\n",
    "         break\n",
    "cap.release()\n",
    "cv2.destroyAllWindows()"
   ]
  },
  {
   "cell_type": "code",
   "execution_count": null,
   "outputs": [],
   "source": [
    "\n"
   ],
   "metadata": {
    "collapsed": false,
    "pycharm": {
     "name": "#%%\n"
    }
   }
  }
 ],
 "metadata": {
  "kernelspec": {
   "name": "pycharm-c2e7eac1",
   "language": "python",
   "display_name": "PyCharm (Jupyter)"
  },
  "language_info": {
   "codemirror_mode": {
    "name": "ipython",
    "version": 2
   },
   "file_extension": ".py",
   "mimetype": "text/x-python",
   "name": "python",
   "nbconvert_exporter": "python",
   "pygments_lexer": "ipython2",
   "version": "2.7.6"
  }
 },
 "nbformat": 4,
 "nbformat_minor": 0
}