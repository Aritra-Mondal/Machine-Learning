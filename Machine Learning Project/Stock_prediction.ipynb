{
 "cells": [
  {
   "cell_type": "code",
   "execution_count": 1,
   "metadata": {},
   "outputs": [],
   "source": [
    "import numpy as np\n",
    "import pandas as pd\n",
    "import quandl,math\n",
    "from sklearn import preprocessing,model_selection,svm\n",
    "from sklearn.linear_model import LinearRegression\n",
    "import matplotlib.pyplot as plt\n",
    "from matplotlib import style\n",
    "import datetime"
   ]
  },
  {
   "cell_type": "code",
   "execution_count": 2,
   "metadata": {},
   "outputs": [],
   "source": [
    "style.use('ggplot')"
   ]
  },
  {
   "cell_type": "code",
   "execution_count": 3,
   "metadata": {},
   "outputs": [],
   "source": [
    "df=quandl.get('WIKI/GOOGL')"
   ]
  },
  {
   "cell_type": "code",
   "execution_count": 4,
   "metadata": {},
   "outputs": [
    {
     "name": "stdout",
     "output_type": "stream",
     "text": [
      "               Open     High      Low     Close      Volume  Ex-Dividend  \\\n",
      "Date                                                                       \n",
      "2004-08-19   100.01   104.06    95.96   100.335  44659000.0          0.0   \n",
      "2004-08-20   101.01   109.08   100.50   108.310  22834300.0          0.0   \n",
      "2004-08-23   110.76   113.48   109.05   109.400  18256100.0          0.0   \n",
      "2004-08-24   111.24   111.60   103.57   104.870  15247300.0          0.0   \n",
      "2004-08-25   104.76   108.00   103.88   106.000   9188600.0          0.0   \n",
      "...             ...      ...      ...       ...         ...          ...   \n",
      "2018-03-21  1092.57  1108.70  1087.21  1094.000   1990515.0          0.0   \n",
      "2018-03-22  1080.01  1083.92  1049.64  1053.150   3418154.0          0.0   \n",
      "2018-03-23  1051.37  1066.78  1024.87  1026.550   2413517.0          0.0   \n",
      "2018-03-26  1050.60  1059.27  1010.58  1054.090   3272409.0          0.0   \n",
      "2018-03-27  1063.90  1064.54   997.62  1006.940   2940957.0          0.0   \n",
      "\n",
      "            Split Ratio    Adj. Open    Adj. High     Adj. Low   Adj. Close  \\\n",
      "Date                                                                          \n",
      "2004-08-19          1.0    50.159839    52.191109    48.128568    50.322842   \n",
      "2004-08-20          1.0    50.661387    54.708881    50.405597    54.322689   \n",
      "2004-08-23          1.0    55.551482    56.915693    54.693835    54.869377   \n",
      "2004-08-24          1.0    55.792225    55.972783    51.945350    52.597363   \n",
      "2004-08-25          1.0    52.542193    54.167209    52.100830    53.164113   \n",
      "...                 ...          ...          ...          ...          ...   \n",
      "2018-03-21          1.0  1092.570000  1108.700000  1087.210000  1094.000000   \n",
      "2018-03-22          1.0  1080.010000  1083.920000  1049.640000  1053.150000   \n",
      "2018-03-23          1.0  1051.370000  1066.780000  1024.870000  1026.550000   \n",
      "2018-03-26          1.0  1050.600000  1059.270000  1010.580000  1054.090000   \n",
      "2018-03-27          1.0  1063.900000  1064.540000   997.620000  1006.940000   \n",
      "\n",
      "            Adj. Volume  \n",
      "Date                     \n",
      "2004-08-19   44659000.0  \n",
      "2004-08-20   22834300.0  \n",
      "2004-08-23   18256100.0  \n",
      "2004-08-24   15247300.0  \n",
      "2004-08-25    9188600.0  \n",
      "...                 ...  \n",
      "2018-03-21    1990515.0  \n",
      "2018-03-22    3418154.0  \n",
      "2018-03-23    2413517.0  \n",
      "2018-03-26    3272409.0  \n",
      "2018-03-27    2940957.0  \n",
      "\n",
      "[3424 rows x 12 columns]\n"
     ]
    }
   ],
   "source": [
    "print(df)"
   ]
  },
  {
   "cell_type": "code",
   "execution_count": 6,
   "metadata": {},
   "outputs": [
    {
     "name": "stderr",
     "output_type": "stream",
     "text": [
      "C:\\Users\\Aitra Mondal\\Anaconda3\\lib\\site-packages\\ipykernel_launcher.py:2: SettingWithCopyWarning: \n",
      "A value is trying to be set on a copy of a slice from a DataFrame.\n",
      "Try using .loc[row_indexer,col_indexer] = value instead\n",
      "\n",
      "See the caveats in the documentation: http://pandas.pydata.org/pandas-docs/stable/user_guide/indexing.html#returning-a-view-versus-a-copy\n",
      "  \n",
      "C:\\Users\\Aitra Mondal\\Anaconda3\\lib\\site-packages\\ipykernel_launcher.py:3: SettingWithCopyWarning: \n",
      "A value is trying to be set on a copy of a slice from a DataFrame.\n",
      "Try using .loc[row_indexer,col_indexer] = value instead\n",
      "\n",
      "See the caveats in the documentation: http://pandas.pydata.org/pandas-docs/stable/user_guide/indexing.html#returning-a-view-versus-a-copy\n",
      "  This is separate from the ipykernel package so we can avoid doing imports until\n"
     ]
    }
   ],
   "source": [
    "df=df[['Adj. Open','Adj. High','Adj. Low','Adj. Close','Adj. Volume']]\n",
    "df['HL_PCT']=(df['Adj. High']-df[\"Adj. Low\"])/df['Adj. Close']*100.0\n",
    "df['PCT_change']=(df['Adj. Close']-df['Adj. Open'])/df['Adj. Open']*100.0"
   ]
  },
  {
   "cell_type": "code",
   "execution_count": 7,
   "metadata": {},
   "outputs": [],
   "source": [
    "df=df[['Adj. Close','HL_PCT','PCT_change','Adj. Volume']]"
   ]
  },
  {
   "cell_type": "code",
   "execution_count": 9,
   "metadata": {},
   "outputs": [],
   "source": [
    "forecast_col='Adj. Close'\n",
    "df.fillna(value=-99999,inplace=True)\n",
    "forecast_out=int(math.ceil(0.01*len(df)))\n",
    "df['label']=df[forecast_col].shift(-forecast_out)"
   ]
  },
  {
   "cell_type": "code",
   "execution_count": 12,
   "metadata": {},
   "outputs": [
    {
     "name": "stdout",
     "output_type": "stream",
     "text": [
      "[[-1.39187095  4.25846492  0.23254018  4.46712802]\n",
      " [-1.37635178  4.15018674  4.81828847  1.8207495 ]\n",
      " [-1.37423066  1.3780063  -0.79917922  1.26561472]\n",
      " ...\n",
      " [ 2.99737935 -0.42487551  0.33301614 -0.61156746]\n",
      " [ 2.7553098  -0.23328983 -0.46778619 -0.24489949]\n",
      " [ 2.55960556  2.38088557 -1.90605746 -0.49425191]]\n",
      "[[ 2.62040424  2.26641124  3.25839716 -0.49545744]\n",
      " [ 2.50780834  0.64357973 -1.79354019 -0.6394908 ]\n",
      " [ 2.31454846  2.66581649 -3.38541422 -0.57613569]\n",
      " [ 2.46132664  2.2334127   1.15324503 -0.41015315]\n",
      " [ 2.50451039 -0.1577593  -0.11604074 -0.60898579]\n",
      " [ 2.50288082 -0.54974983  0.27859553 -0.75717739]\n",
      " [ 2.57489253  0.19225109  1.17488957 -0.70190181]\n",
      " [ 2.64729224  0.24167535  0.50169569 -0.72903566]\n",
      " [ 2.66335519 -0.42565789  0.14545442 -0.70894085]\n",
      " [ 2.69474392  0.18451827  0.67510086 -0.74841251]\n",
      " [ 2.73416412  0.32322713  0.2951878  -0.70256205]\n",
      " [ 2.71922635 -0.2108907  -0.53369123 -0.77997427]\n",
      " [ 2.78980248 -0.2161489   0.57670541 -0.79835378]\n",
      " [ 2.85036837 -0.59074485  0.71164132 -0.76748452]\n",
      " [ 2.7487527   0.23822692 -1.50481437 -0.69403423]\n",
      " [ 2.6960243   0.07765452 -1.05399713 -0.65327277]\n",
      " [ 2.5698874   1.41774617 -2.26663627 -0.61255097]\n",
      " [ 2.61927906  0.90780192  1.65946178 -0.64392126]\n",
      " [ 2.66048404  0.36960217  1.04146504 -0.77436569]\n",
      " [ 2.68430688 -0.79713698 -0.05571221 -0.80629254]\n",
      " [ 2.73916925  0.16700589  1.36754569 -0.76162652]\n",
      " [ 2.79480761 -0.61825154  0.7409813  -0.76489449]\n",
      " [ 2.91687057  0.12631251  1.26089509 -0.69702792]\n",
      " [ 2.93661947 -0.35673568  0.06681485 -0.6898589 ]\n",
      " [ 2.83566339  1.20661449 -1.79317165 -0.68984216]\n",
      " [ 2.87050527 -0.43605215  0.19580727 -0.70145098]\n",
      " [ 2.87717876  0.14904614  0.07673799 -0.75114526]\n",
      " [ 2.81436251  0.08516101 -1.18698708 -0.62616245]\n",
      " [ 2.68108653  0.46069525 -1.03487645 -0.57502304]\n",
      " [ 2.66451918 -0.0098024  -0.14063968 -0.61952877]\n",
      " [ 2.65753528 -0.11463446  0.10359021 -0.70668707]\n",
      " [ 2.49903967  0.80932825 -1.63575383 -0.53357709]\n",
      " [ 2.39583323  1.40180729 -1.55184968 -0.65539548]\n",
      " [ 2.50268682  1.78591425  0.23733959 -0.55124957]\n",
      " [ 2.31974758  3.23683162 -3.54051775 -0.59144015]]\n"
     ]
    }
   ],
   "source": [
    "X=np.array(df.drop(['label'],1))\n",
    "X=preprocessing.scale(X)\n",
    "X_lately=X[-forecast_out:]\n",
    "X=X[:-forecast_out]\n",
    "print(X)\n",
    "print(X_lately)"
   ]
  },
  {
   "cell_type": "code",
   "execution_count": 13,
   "metadata": {},
   "outputs": [],
   "source": [
    "df.dropna(inplace=True)"
   ]
  },
  {
   "cell_type": "code",
   "execution_count": 16,
   "metadata": {},
   "outputs": [],
   "source": [
    "y=np.array(df['label'])"
   ]
  },
  {
   "cell_type": "code",
   "execution_count": 17,
   "metadata": {},
   "outputs": [],
   "source": [
    "\n",
    "X_train,X_test,Y_train,Y_test=model_selection.train_test_split(X,Y,test_size=0.2)\n",
    "clf=LinearRegression(n_jobs=-1)\n",
    "clf.fit(X_train,Y_train)\n",
    "confidence=clf.score(X_test,Y_test)"
   ]
  },
  {
   "cell_type": "code",
   "execution_count": 18,
   "metadata": {},
   "outputs": [],
   "source": [
    "forecast_set=clf.predict(X_lately)\n",
    "df[\"Forecast\"]=np.nan"
   ]
  },
  {
   "cell_type": "code",
   "execution_count": 20,
   "metadata": {},
   "outputs": [],
   "source": [
    "last_date=df.iloc[-1].name\n",
    "last_unix=last_date.timestamp()\n",
    "one_day=86400\n",
    "next_unix=last_unix+one_day"
   ]
  },
  {
   "cell_type": "code",
   "execution_count": 23,
   "metadata": {},
   "outputs": [],
   "source": [
    "for i in forecast_set:\n",
    "    next_date=datetime.datetime.fromtimestamp(next_unix)\n",
    "    next_unix+=86400\n",
    "    df.loc[next_date]=[np.nan for _ in range(len(df.columns)-1)]+[i]"
   ]
  },
  {
   "cell_type": "code",
   "execution_count": 25,
   "metadata": {},
   "outputs": [
    {
     "data": {
      "image/png": "[encoded data removed]",
      "text/plain": [
       "<Figure size 432x288 with 1 Axes>"
      ]
     },
     "metadata": {},
     "output_type": "display_data"
    }
   ],
   "source": [
    "df['Adj. Close'].plot()\n",
    "df['Forecast'].plot()\n",
    "plt.legend(loc=4)\n",
    "plt.xlabel('Date')\n",
    "plt.ylabel('Price')\n",
    "plt.show()"
   ]
  },
  {
   "cell_type": "code",
   "execution_count": null,
   "metadata": {},
   "outputs": [],
   "source": []
  }
 ],
 "metadata": {
  "kernelspec": {
   "display_name": "Python 3",
   "language": "python",
   "name": "python3"
  },
  "language_info": {
   "codemirror_mode": {
    "name": "ipython",
    "version": 3
   },
   "file_extension": ".py",
   "mimetype": "text/x-python",
   "name": "python",
   "nbconvert_exporter": "python",
   "pygments_lexer": "ipython3",
   "version": "3.7.6"
  }
 },
 "nbformat": 4,
 "nbformat_minor": 2
}
