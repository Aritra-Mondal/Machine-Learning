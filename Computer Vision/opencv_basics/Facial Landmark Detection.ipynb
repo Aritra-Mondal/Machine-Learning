{
 "cells": [
  {
   "cell_type": "code",
   "execution_count": 1,
   "metadata": {
    "collapsed": true
   },
   "outputs": [],
   "source": [
    "import cv2\n",
    "import dlib\n",
    "import numpy as np\n",
    "\n",
    "PREDICTOR_PATH = \"F:/shape_predictor_68_face_landmarks.dat\"\n",
    "predictor = dlib.shape_predictor(PREDICTOR_PATH)\n",
    "detector = dlib.get_frontal_face_detector()\n",
    "\n",
    "class TooManyFaces(Exception):\n",
    "    pass\n",
    "class NoFaces(Exception):\n",
    "    pass\n",
    "\n",
    "def get_landmarks(im):\n",
    "    rects = detector(im,1)# return rectangles[[(153, 67) (282, 196)]]\n",
    "\n",
    "\n",
    "    if len(rects) > 1:\n",
    "        raise TooManyFaces\n",
    "    if len(rects) == 0:\n",
    "        raise NoFaces\n",
    "    return np.matrix([[p.x,p.y] for p in predictor(im,rects[0]).parts()])\n",
    "\n",
    "def annotate_landmarks(im, landmarks):\n",
    "    im = im.copy()\n",
    "    for idx, point in enumerate(landmarks):\n",
    "        pos = (point[0,0],point[0,1])\n",
    "        cv2.putText(im, str(idx), pos,fontFace=cv2.FONT_HERSHEY_SCRIPT_COMPLEX,\n",
    "                    fontScale=0.4, color=(0,0,255))\n",
    "        cv2.circle(im, pos, 3,color=(0,255,255))\n",
    "    return im\n",
    "\n",
    "image = cv2.imread(\"F:\\\\Master OpenCV\\\\images\\\\obama.jpg\")\n",
    "landmarks = get_landmarks(image)\n",
    "image_with_landmarks = annotate_landmarks(image,landmarks)\n",
    "\n",
    "cv2.imshow(\"RESULT\", image_with_landmarks)\n",
    "cv2.waitKey(0)\n",
    "cv2.destroyAllWindows()"
   ]
  },
  {
   "cell_type": "code",
   "execution_count": 7,
   "outputs": [],
   "source": [
    "def get_landmarks(im):\n",
    "    rects = detector(im,1)\n",
    "\n",
    "    if len(rects) > 1:\n",
    "        raise TooManyFaces\n",
    "    if len(rects) == 0:\n",
    "        raise NoFaces\n",
    "    return rects"
   ],
   "metadata": {
    "collapsed": false,
    "pycharm": {
     "name": "#%%\n"
    }
   }
  },
  {
   "cell_type": "code",
   "execution_count": 24,
   "outputs": [
    {
     "name": "stdout",
     "output_type": "stream",
     "text": [
      "rectangles[[(153, 67) (282, 196)]]\n"
     ]
    }
   ],
   "source": [
    "print(get_landmarks(image))\n"
   ],
   "metadata": {
    "collapsed": false,
    "pycharm": {
     "name": "#%%\n"
    }
   }
  },
  {
   "cell_type": "code",
   "execution_count": 16,
   "outputs": [
    {
     "data": {
      "text/plain": "<dlib.full_object_detection at 0x16eeb1d77b0>"
     },
     "execution_count": 16,
     "metadata": {},
     "output_type": "execute_result"
    }
   ],
   "source": [
    "rects = detector(image,1)\n",
    "predictor(image,rects[0])"
   ],
   "metadata": {
    "collapsed": false,
    "pycharm": {
     "name": "#%%\n"
    }
   }
  },
  {
   "cell_type": "code",
   "execution_count": 18,
   "outputs": [
    {
     "data": {
      "text/plain": "points[(140, 119), (141, 136), (144, 155), (150, 171), (163, 184), (180, 194), (199, 201), (216, 208), (231, 209), (241, 202), (245, 189), (247, 176), (249, 163), (252, 151), (253, 139), (249, 127), (244, 118), (181, 109), (190, 103), (200, 100), (211, 99), (221, 102), (230, 102), (234, 99), (239, 99), (242, 101), (244, 105), (227, 112), (231, 119), (236, 126), (240, 133), (219, 143), (226, 145), (233, 146), (238, 144), (242, 142), (192, 115), (199, 112), (204, 111), (208, 115), (204, 116), (199, 116), (231, 116), (234, 112), (239, 112), (241, 116), (239, 116), (235, 116), (197, 160), (211, 154), (223, 153), (230, 154), (236, 152), (241, 154), (242, 160), (241, 170), (236, 176), (230, 178), (223, 177), (210, 172), (200, 161), (223, 158), (230, 158), (235, 158), (240, 160), (236, 168), (230, 170), (223, 169)]"
     },
     "execution_count": 18,
     "metadata": {},
     "output_type": "execute_result"
    }
   ],
   "source": [
    "predictor(image,rects[0]).parts()"
   ],
   "metadata": {
    "collapsed": false,
    "pycharm": {
     "name": "#%%\n"
    }
   }
  },
  {
   "cell_type": "code",
   "execution_count": 20,
   "outputs": [
    {
     "data": {
      "text/plain": "140"
     },
     "execution_count": 20,
     "metadata": {},
     "output_type": "execute_result"
    }
   ],
   "source": [
    "predictor(image,rects[0]).parts()[0].x"
   ],
   "metadata": {
    "collapsed": false,
    "pycharm": {
     "name": "#%%\n"
    }
   }
  },
  {
   "cell_type": "code",
   "execution_count": 21,
   "outputs": [
    {
     "data": {
      "text/plain": "119"
     },
     "execution_count": 21,
     "metadata": {},
     "output_type": "execute_result"
    }
   ],
   "source": [
    "predictor(image,rects[0]).parts()[0].y"
   ],
   "metadata": {
    "collapsed": false,
    "pycharm": {
     "name": "#%%\n"
    }
   }
  },
  {
   "cell_type": "code",
   "execution_count": 25,
   "outputs": [
    {
     "data": {
      "text/plain": "matrix([[140, 119],\n        [141, 136],\n        [144, 155],\n        [150, 171],\n        [163, 184],\n        [180, 194],\n        [199, 201],\n        [216, 208],\n        [231, 209],\n        [241, 202],\n        [245, 189],\n        [247, 176],\n        [249, 163],\n        [252, 151],\n        [253, 139],\n        [249, 127],\n        [244, 118],\n        [181, 109],\n        [190, 103],\n        [200, 100],\n        [211,  99],\n        [221, 102],\n        [230, 102],\n        [234,  99],\n        [239,  99],\n        [242, 101],\n        [244, 105],\n        [227, 112],\n        [231, 119],\n        [236, 126],\n        [240, 133],\n        [219, 143],\n        [226, 145],\n        [233, 146],\n        [238, 144],\n        [242, 142],\n        [192, 115],\n        [199, 112],\n        [204, 111],\n        [208, 115],\n        [204, 116],\n        [199, 116],\n        [231, 116],\n        [234, 112],\n        [239, 112],\n        [241, 116],\n        [239, 116],\n        [235, 116],\n        [197, 160],\n        [211, 154],\n        [223, 153],\n        [230, 154],\n        [236, 152],\n        [241, 154],\n        [242, 160],\n        [241, 170],\n        [236, 176],\n        [230, 178],\n        [223, 177],\n        [210, 172],\n        [200, 161],\n        [223, 158],\n        [230, 158],\n        [235, 158],\n        [240, 160],\n        [236, 168],\n        [230, 170],\n        [223, 169]])"
     },
     "execution_count": 25,
     "metadata": {},
     "output_type": "execute_result"
    }
   ],
   "source": [
    "landmarks"
   ],
   "metadata": {
    "collapsed": false,
    "pycharm": {
     "name": "#%%\n"
    }
   }
  },
  {
   "cell_type": "code",
   "execution_count": 27,
   "outputs": [
    {
     "data": {
      "text/plain": "51"
     },
     "execution_count": 27,
     "metadata": {},
     "output_type": "execute_result"
    }
   ],
   "source": [
    "FACE_POINTS = list(range(17, 68))\n",
    "len(landmarks[FACE_POINTS])"
   ],
   "metadata": {
    "collapsed": false,
    "pycharm": {
     "name": "#%%\n"
    }
   }
  },
  {
   "cell_type": "code",
   "execution_count": null,
   "outputs": [],
   "source": [
    "\n"
   ],
   "metadata": {
    "collapsed": false,
    "pycharm": {
     "name": "#%%\n"
    }
   }
  }
 ],
 "metadata": {
  "kernelspec": {
   "display_name": "Python 3",
   "language": "python",
   "name": "python3"
  },
  "language_info": {
   "codemirror_mode": {
    "name": "ipython",
    "version": 2
   },
   "file_extension": ".py",
   "mimetype": "text/x-python",
   "name": "python",
   "nbconvert_exporter": "python",
   "pygments_lexer": "ipython2",
   "version": "2.7.6"
  }
 },
 "nbformat": 4,
 "nbformat_minor": 0
}