{
 "cells": [
  {
   "cell_type": "code",
   "execution_count": 13,
   "outputs": [],
   "source": [
    "import cv2\n",
    "import numpy as np\n",
    "# Load video stream\n",
    "cap = cv2.VideoCapture('F:/Master OpenCV/images/walking.avi')\n",
    "\n",
    "# Get first frame\n",
    "ret, first_frame = cap.read()\n",
    "previous_gray = cv2.cvtColor(first_frame, cv2.COLOR_BGR2GRAY)\n",
    "hsv = np.zeros_like(first_frame)\n",
    "hsv[...,1]=255\n",
    "while True:\n",
    "\n",
    "    # Read of video file\n",
    "    ret, frame2 = cap.read()\n",
    "    next = cv2.cvtColor(frame2,cv2.COLOR_BGR2GRAY)\n",
    "\n",
    "    # Computes the dense optical flow using the Gunnar Farneback’s algorithm\n",
    "    flow = cv2.calcOpticalFlowFarneback(previous_gray, next,\n",
    "                                        None, 0.5, 3, 15, 3, 5, 1.2, 0)\n",
    "\n",
    "    # use flow to calculate the magnitude (speed) and angle of motion\n",
    "    # use these values to calculate the color to reflect speed and angle\n",
    "    magnitude, angle = cv2.cartToPolar(flow[...,0], flow[...,1])\n",
    "    hsv[...,0] = angle * (180 / (np.pi/2))\n",
    "    hsv[...,2] = cv2.normalize(magnitude, None, 0, 255, cv2.NORM_MINMAX)\n",
    "    final = cv2.cvtColor(hsv, cv2.COLOR_HSV2BGR)\n",
    "\n",
    "    # Show our demo of Dense Optical Flow\n",
    "    cv2.imshow('Dense Optical Flow', final)\n",
    "    if cv2.waitKey(1) == 13: #13 is the Enter Key\n",
    "        break\n",
    "\n",
    "    # Store current image as previous image\n",
    "    previous_gray = next\n",
    "\n",
    "cap.release()\n",
    "cv2.destroyAllWindows()"
   ],
   "metadata": {
    "collapsed": false,
    "pycharm": {
     "name": "#%%\n"
    }
   }
  },
  {
   "cell_type": "code",
   "execution_count": 14,
   "outputs": [],
   "source": [
    "flow = cv2.calcOpticalFlowFarneback(previous_gray, next,\n",
    "                                        None, 0.5, 3, 15, 3, 5, 1.2, 0)"
   ],
   "metadata": {
    "collapsed": false,
    "pycharm": {
     "name": "#%%\n"
    }
   }
  },
  {
   "cell_type": "code",
   "execution_count": 16,
   "outputs": [
    {
     "data": {
      "text/plain": "(576, 768, 2)"
     },
     "execution_count": 16,
     "metadata": {},
     "output_type": "execute_result"
    }
   ],
   "source": [
    "flow.shape"
   ],
   "metadata": {
    "collapsed": false,
    "pycharm": {
     "name": "#%%\n"
    }
   }
  },
  {
   "cell_type": "code",
   "execution_count": 17,
   "outputs": [
    {
     "data": {
      "text/plain": "array([[0.03144786, 0.05192957, 0.07390801, ..., 0.04512309, 0.04549347,\n        0.06265982],\n       [0.03645226, 0.05823913, 0.08096094, ..., 0.04567246, 0.04224479,\n        0.05343219],\n       [0.04255676, 0.06625067, 0.09034068, ..., 0.0471663 , 0.04152283,\n        0.04528845],\n       ...,\n       [0.00696694, 0.00715365, 0.00774951, ..., 0.01993479, 0.02265073,\n        0.02705526],\n       [0.00305275, 0.00325317, 0.003956  , ..., 0.00901742, 0.01079803,\n        0.01150576],\n       [0.00029146, 0.00020422, 0.00026516, ..., 0.00457164, 0.00460252,\n        0.00454536]], dtype=float32)"
     },
     "execution_count": 17,
     "metadata": {},
     "output_type": "execute_result"
    }
   ],
   "source": [
    "magnitude, angle = cv2.cartToPolar(flow[...,0], flow[...,1])\n",
    "magnitude"
   ],
   "metadata": {
    "collapsed": false,
    "pycharm": {
     "name": "#%%\n"
    }
   }
  },
  {
   "cell_type": "code",
   "execution_count": 18,
   "outputs": [
    {
     "data": {
      "text/plain": "array([[1.3339832, 1.4276316, 1.5002974, ..., 4.0099993, 3.5228856,\n        3.0307403],\n       [1.3123217, 1.396997 , 1.470759 , ..., 4.1644983, 3.7424517,\n        3.1761456],\n       [1.3457862, 1.4142063, 1.4786273, ..., 4.308374 , 3.9903846,\n        3.3706014],\n       ...,\n       [4.217986 , 4.2633243, 4.3750763, ..., 5.0246596, 4.6505113,\n        4.409506 ],\n       [4.4682827, 4.44218  , 4.558355 , ..., 3.7300277, 3.5796626,\n        3.4800196],\n       [5.8996625, 5.6962166, 4.701893 , ..., 3.7034853, 3.489412 ,\n        3.2829745]], dtype=float32)"
     },
     "execution_count": 18,
     "metadata": {},
     "output_type": "execute_result"
    }
   ],
   "source": [
    "angle\n",
    "\n"
   ],
   "metadata": {
    "collapsed": false,
    "pycharm": {
     "name": "#%%\n"
    }
   }
  },
  {
   "cell_type": "code",
   "execution_count": 19,
   "outputs": [
    {
     "data": {
      "text/plain": "array([[152.8632 , 163.59453, 171.92142, ..., 459.51205, 403.69293,\n        347.29724],\n       [150.38098, 160.08406, 168.53658, ..., 477.21634, 428.85336,\n        363.95944],\n       [154.21573, 162.05609, 169.4382 , ..., 493.70328, 457.26437,\n        386.24246],\n       ...,\n       [483.34558, 488.54095, 501.3468 , ..., 575.78357, 532.9093 ,\n        505.29214],\n       [512.02747, 509.03632, 522.34894, ..., 427.42966, 410.1991 ,\n        398.78085],\n       [676.05145, 652.7383 , 538.7972 , ..., 424.38812, 399.85715,\n        376.20117]], dtype=float32)"
     },
     "execution_count": 19,
     "metadata": {},
     "output_type": "execute_result"
    }
   ],
   "source": [
    "(angle*360)/np.pi"
   ],
   "metadata": {
    "collapsed": false,
    "pycharm": {
     "name": "#%%\n"
    }
   }
  },
  {
   "cell_type": "code",
   "execution_count": null,
   "outputs": [],
   "source": [
    "\n"
   ],
   "metadata": {
    "collapsed": false,
    "pycharm": {
     "name": "#%%\n"
    }
   }
  }
 ],
 "metadata": {
  "kernelspec": {
   "name": "conda-env-anaconda3-tensorflow-py",
   "language": "python",
   "display_name": "Python [conda env:anaconda3-tensorflow]"
  },
  "language_info": {
   "codemirror_mode": {
    "name": "ipython",
    "version": 2
   },
   "file_extension": ".py",
   "mimetype": "text/x-python",
   "name": "python",
   "nbconvert_exporter": "python",
   "pygments_lexer": "ipython2",
   "version": "3.7.7-final"
  }
 },
 "nbformat": 4,
 "nbformat_minor": 0
}