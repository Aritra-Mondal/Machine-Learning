{
 "cells": [
  {
   "cell_type": "code",
   "execution_count": 2,
   "metadata": {
    "collapsed": true
   },
   "outputs": [
    {
     "name": "stdout",
     "output_type": "stream",
     "text": [
      "(50, 100, 20, 20)\n",
      "The shape of our cells array: (50, 100, 20, 20)\n",
      "Accuracy is = 93.47%\n"
     ]
    }
   ],
   "source": [
    "import numpy as np\n",
    "import cv2\n",
    "from sklearn.neighbors import KNeighborsClassifier\n",
    "from sklearn.metrics import  accuracy_score\n",
    "\n",
    "image = cv2.imread(\"F:\\\\Master OpenCV\\\\images\\\\digits.png\")\n",
    "gray = cv2.cvtColor(image,cv2.COLOR_BGR2GRAY)\n",
    "small = cv2.pyrDown(image)\n",
    "cv2.imshow(\"Digit Image\", small)\n",
    "cv2.waitKey(0)\n",
    "cv2.destroyAllWindows()\n",
    "\n",
    "cells = [np.hsplit(row,100) for row in np.vsplit(gray,50)]\n",
    "x = np.array(cells)\n",
    "print(x.shape)\n",
    "print (\"The shape of our cells array: \" + str(x.shape))\n",
    "train = x[:,:70].reshape(-1,400).astype(np.float32)\n",
    "test = x[:,70:100].reshape(-1,400).astype(np.float32)\n",
    "k = [0,1,2,3,4,5,6,7,8,9]\n",
    "train_labels = np.repeat(k,350)[:,np.newaxis]\n",
    "test_labels = np.repeat(k,150)[:,np.newaxis]\n",
    "responses = np.random.randint(0,2,(400,1)).astype(np.float32)\n",
    "knn = cv2.ml.KNearest_create()\n",
    "knn.train(train,cv2.ml.ROW_SAMPLE, train_labels)\n",
    "ret, result, neighbors, distance = knn.findNearest(test, k=3)\n",
    "matches = result == test_labels\n",
    "correct = np.count_nonzero(matches)\n",
    "accuracy = correct * (100.0 / result.size)\n",
    "print(\"Accuracy is = %.2f\" % accuracy + \"%\")\n"
   ]
  },
  {
   "cell_type": "code",
   "execution_count": 3,
   "outputs": [],
   "source": [
    "def x_cord_center(controus):\n",
    "     M = cv2.moments(controus)\n",
    "     return int(M['m10']/M[\"m00\"])\n",
    "def makeSquare(not_square):\n",
    "\n",
    "    BLACK = [0,0,0]\n",
    "    img_dim = not_square.shape\n",
    "    height = img_dim[0]\n",
    "    width = img_dim[1]\n",
    "    if height == width:\n",
    "        square = not_square\n",
    "        return square\n",
    "    else:\n",
    "        doublesize = cv2.resize(not_square,(2*width, 2*height), interpolation = cv2.INTER_CUBIC)\n",
    "        height = height*2\n",
    "        width = width*2\n",
    "        if height > width:\n",
    "            pad = (height - width)/2\n",
    "            doublesize_square = cv2.copyMakeBorder(doublesize,0,0,int(pad),int(pad),cv2.BORDER_CONSTANT,value=BLACK)\n",
    "        else:\n",
    "            pad = (width - height)/2\n",
    "            doublesize_square = cv2.copyMakeBorder(doublesize,int(pad),int(pad),0,0,cv2.BORDER_CONSTANT,value=BLACK)\n",
    "        return doublesize_square\n",
    "\n",
    "def resize_to_pixel(dimensions, image):\n",
    "    buffer_pix = 4\n",
    "    dimensions  = dimensions - buffer_pix\n",
    "    squared = image\n",
    "    r = float(dimensions) / squared.shape[1]\n",
    "    dim = (dimensions, int(squared.shape[0] * r))\n",
    "    resized = cv2.resize(image, dim, interpolation = cv2.INTER_AREA)\n",
    "    img_dim2 = resized.shape\n",
    "    height_r = img_dim2[0]\n",
    "    width_r = img_dim2[1]\n",
    "    BLACK = [0,0,0]\n",
    "    if height_r > width_r:\n",
    "        resized = cv2.copyMakeBorder(resized,0,0,0,1,cv2.BORDER_CONSTANT,value=BLACK)\n",
    "    if height_r < width_r:\n",
    "        resized = cv2.copyMakeBorder(resized,1,0,0,0,cv2.BORDER_CONSTANT,value=BLACK)\n",
    "    p = 2\n",
    "    ReSizedImg = cv2.copyMakeBorder(resized,p,p,p,p,cv2.BORDER_CONSTANT,value=BLACK)\n",
    "    img_dim = ReSizedImg.shape\n",
    "    height = img_dim[0]\n",
    "    width = img_dim[1]\n",
    "    return ReSizedImg"
   ],
   "metadata": {
    "collapsed": false,
    "pycharm": {
     "name": "#%%\n"
    }
   }
  },
  {
   "cell_type": "code",
   "execution_count": 5,
   "outputs": [
    {
     "name": "stdout",
     "output_type": "stream",
     "text": [
      "The number is: 1350\n"
     ]
    }
   ],
   "source": [
    "image = cv2.imread(\"F:\\\\Master OpenCV\\\\images\\\\numbers.jpg\")\n",
    "gray = cv2.cvtColor(image,cv2.COLOR_BGR2GRAY)\n",
    "cv2.imshow(\"image\", image)\n",
    "cv2.imshow(\"gray\", gray)\n",
    "cv2.waitKey(0)\n",
    "\n",
    "blurred = cv2.GaussianBlur(gray, (5, 5), 0)\n",
    "cv2.imshow(\"blurred\", blurred)\n",
    "cv2.waitKey(0)\n",
    "\n",
    "edged = cv2.Canny(blurred, 30, 150)\n",
    "cv2.imshow(\"edged\", edged)\n",
    "cv2.waitKey(0)\n",
    "\n",
    "\n",
    "contours,hierarchy = cv2.findContours(edged.copy(),cv2.RETR_EXTERNAL,cv2.CHAIN_APPROX_NONE)\n",
    "cnt = []\n",
    "for c in contours:\n",
    "    if cv2.contourArea(c) > 30:\n",
    "        cnt.append(c)\n",
    "contours = sorted(cnt,key=x_cord_center,reverse=False)\n",
    "full_number = []\n",
    "for c in contours:\n",
    "    (x, y, w, h) = cv2.boundingRect(c)\n",
    "    if w >= 5 and h >= 25:\n",
    "        roi = blurred[y:y + h, x:x + w]\n",
    "        ret, roi = cv2.threshold(roi, 127, 255,cv2.THRESH_BINARY_INV)\n",
    "        squared = makeSquare(roi)\n",
    "        final = resize_to_pixel(20, squared)\n",
    "        cv2.imshow(\"final\", final)\n",
    "        final_array = final.reshape((1,400))\n",
    "        final_array = final_array.astype(np.float32)\n",
    "        ret, result, neighbours, dist = knn.findNearest(final_array, k=1)\n",
    "        number = str(int(float(result[0])))\n",
    "        full_number.append(number)\n",
    "        cv2.rectangle(image, (x, y), (x + w, y + h), (0, 0, 255), 2)\n",
    "        cv2.putText(image, number, (x , y + 155),\n",
    "                cv2.FONT_HERSHEY_COMPLEX, 2, (255, 0, 0), 2)\n",
    "        cv2.imshow(\"image\", image)\n",
    "        cv2.waitKey(0)\n",
    "\n",
    "cv2.destroyAllWindows()\n",
    "print (\"The number is: \" + ''.join(full_number))\n",
    "\n",
    "\n",
    "\n"
   ],
   "metadata": {
    "collapsed": false,
    "pycharm": {
     "name": "#%%\n"
    }
   }
  },
  {
   "cell_type": "code",
   "execution_count": null,
   "outputs": [],
   "source": [
    "\n"
   ],
   "metadata": {
    "collapsed": false,
    "pycharm": {
     "name": "#%%\n"
    }
   }
  }
 ],
 "metadata": {
  "kernelspec": {
   "display_name": "Python 3",
   "language": "python",
   "name": "python3"
  },
  "language_info": {
   "codemirror_mode": {
    "name": "ipython",
    "version": 2
   },
   "file_extension": ".py",
   "mimetype": "text/x-python",
   "name": "python",
   "nbconvert_exporter": "python",
   "pygments_lexer": "ipython2",
   "version": "2.7.6"
  }
 },
 "nbformat": 4,
 "nbformat_minor": 0
}