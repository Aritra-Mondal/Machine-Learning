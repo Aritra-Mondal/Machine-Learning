{
 "cells": [
  {
   "cell_type": "code",
   "execution_count": 1,
   "metadata": {
    "collapsed": true
   },
   "outputs": [
    {
     "ename": "TypeError",
     "evalue": "__call__(): incompatible function arguments. The following argument types are supported:\n    1. (self: dlib.fhog_object_detector, image: array, upsample_num_times: int=0) -> dlib.rectangles\n\nInvoked with: <dlib.fhog_object_detector object at 0x000001E71CA27C70>, None",
     "output_type": "error",
     "traceback": [
      "\u001B[1;31m---------------------------------------------------------------------------\u001B[0m",
      "\u001B[1;31mTypeError\u001B[0m                                 Traceback (most recent call last)",
      "\u001B[1;32m<ipython-input-1-6d406695d025>\u001B[0m in \u001B[0;36m<module>\u001B[1;34m\u001B[0m\n\u001B[0;32m     58\u001B[0m \u001B[1;32mwhile\u001B[0m \u001B[1;32mTrue\u001B[0m\u001B[1;33m:\u001B[0m\u001B[1;33m\u001B[0m\u001B[1;33m\u001B[0m\u001B[0m\n\u001B[0;32m     59\u001B[0m     \u001B[0mret\u001B[0m\u001B[1;33m,\u001B[0m\u001B[0mframe\u001B[0m \u001B[1;33m=\u001B[0m \u001B[0mcap\u001B[0m\u001B[1;33m.\u001B[0m\u001B[0mread\u001B[0m\u001B[1;33m(\u001B[0m\u001B[1;33m)\u001B[0m\u001B[1;33m\u001B[0m\u001B[1;33m\u001B[0m\u001B[0m\n\u001B[1;32m---> 60\u001B[1;33m     \u001B[0mimage_landmarks\u001B[0m\u001B[1;33m,\u001B[0m \u001B[0mlip_distance\u001B[0m \u001B[1;33m=\u001B[0m \u001B[0mmouth_open\u001B[0m\u001B[1;33m(\u001B[0m\u001B[0mframe\u001B[0m\u001B[1;33m)\u001B[0m\u001B[1;33m\u001B[0m\u001B[1;33m\u001B[0m\u001B[0m\n\u001B[0m\u001B[0;32m     61\u001B[0m     \u001B[0mprev_yawn_status\u001B[0m \u001B[1;33m=\u001B[0m \u001B[0myawn_status\u001B[0m\u001B[1;33m\u001B[0m\u001B[1;33m\u001B[0m\u001B[0m\n\u001B[0;32m     62\u001B[0m     \u001B[1;32mif\u001B[0m \u001B[0mlip_distance\u001B[0m \u001B[1;33m>\u001B[0m \u001B[1;36m15\u001B[0m\u001B[1;33m:\u001B[0m\u001B[1;33m\u001B[0m\u001B[1;33m\u001B[0m\u001B[0m\n",
      "\u001B[1;32m<ipython-input-1-6d406695d025>\u001B[0m in \u001B[0;36mmouth_open\u001B[1;34m(image)\u001B[0m\n\u001B[0;32m     44\u001B[0m \u001B[1;33m\u001B[0m\u001B[0m\n\u001B[0;32m     45\u001B[0m \u001B[1;32mdef\u001B[0m \u001B[0mmouth_open\u001B[0m\u001B[1;33m(\u001B[0m\u001B[0mimage\u001B[0m\u001B[1;33m)\u001B[0m\u001B[1;33m:\u001B[0m\u001B[1;33m\u001B[0m\u001B[1;33m\u001B[0m\u001B[0m\n\u001B[1;32m---> 46\u001B[1;33m     \u001B[0mlandmarks\u001B[0m \u001B[1;33m=\u001B[0m \u001B[0mget_landmarks\u001B[0m\u001B[1;33m(\u001B[0m\u001B[0mimage\u001B[0m\u001B[1;33m)\u001B[0m\u001B[1;33m\u001B[0m\u001B[1;33m\u001B[0m\u001B[0m\n\u001B[0m\u001B[0;32m     47\u001B[0m     \u001B[1;32mif\u001B[0m \u001B[0mlandmarks\u001B[0m \u001B[1;33m==\u001B[0m \u001B[1;34m\"Error\"\u001B[0m\u001B[1;33m:\u001B[0m\u001B[1;33m\u001B[0m\u001B[1;33m\u001B[0m\u001B[0m\n\u001B[0;32m     48\u001B[0m         \u001B[1;32mreturn\u001B[0m \u001B[0mimage\u001B[0m\u001B[1;33m,\u001B[0m\u001B[1;36m0\u001B[0m\u001B[1;33m\u001B[0m\u001B[1;33m\u001B[0m\u001B[0m\n",
      "\u001B[1;32m<ipython-input-1-6d406695d025>\u001B[0m in \u001B[0;36mget_landmarks\u001B[1;34m(image)\u001B[0m\n\u001B[0;32m      8\u001B[0m \u001B[1;33m\u001B[0m\u001B[0m\n\u001B[0;32m      9\u001B[0m \u001B[1;32mdef\u001B[0m \u001B[0mget_landmarks\u001B[0m\u001B[1;33m(\u001B[0m\u001B[0mimage\u001B[0m\u001B[1;33m)\u001B[0m\u001B[1;33m:\u001B[0m\u001B[1;33m\u001B[0m\u001B[1;33m\u001B[0m\u001B[0m\n\u001B[1;32m---> 10\u001B[1;33m     \u001B[0mrects\u001B[0m \u001B[1;33m=\u001B[0m \u001B[0mdetector\u001B[0m\u001B[1;33m(\u001B[0m\u001B[0mimage\u001B[0m\u001B[1;33m)\u001B[0m\u001B[1;33m\u001B[0m\u001B[1;33m\u001B[0m\u001B[0m\n\u001B[0m\u001B[0;32m     11\u001B[0m     \u001B[1;32mif\u001B[0m \u001B[0mlen\u001B[0m\u001B[1;33m(\u001B[0m\u001B[0mrects\u001B[0m\u001B[1;33m)\u001B[0m\u001B[1;33m>\u001B[0m\u001B[1;36m1\u001B[0m\u001B[1;33m:\u001B[0m\u001B[1;33m\u001B[0m\u001B[1;33m\u001B[0m\u001B[0m\n\u001B[0;32m     12\u001B[0m         \u001B[1;32mreturn\u001B[0m \u001B[1;34m\"Error\"\u001B[0m\u001B[1;33m\u001B[0m\u001B[1;33m\u001B[0m\u001B[0m\n",
      "\u001B[1;31mTypeError\u001B[0m: __call__(): incompatible function arguments. The following argument types are supported:\n    1. (self: dlib.fhog_object_detector, image: array, upsample_num_times: int=0) -> dlib.rectangles\n\nInvoked with: <dlib.fhog_object_detector object at 0x000001E71CA27C70>, None"
     ]
    }
   ],
   "source": [
    "import cv2\n",
    "import dlib\n",
    "import numpy as np\n",
    "\n",
    "PREDICTOR_PATH = \"F:/shape_predictor_68_face_landmarks.dat\"\n",
    "detector = dlib.get_frontal_face_detector()\n",
    "predictor = dlib.shape_predictor()\n",
    "\n",
    "def get_landmarks(image):\n",
    "    rects = detector(image)\n",
    "    if len(rects)>1:\n",
    "        return \"Error\"\n",
    "    if len(rects)==0:\n",
    "        return \"Error\"\n",
    "    return np.matrix([[p.x,p.y] for p in predictor(image,rects[0]).parts()])\n",
    "\n",
    "def annotate_landmarks(im,landmarks):\n",
    "    im = im.copy()\n",
    "    for id,points in enumerate(landmarks):\n",
    "        points = (points[0,0],points[0,1])\n",
    "        cv2.putText(im,str(id),points,cv2.FONT_HERSHEY_SCRIPT_SIMPLEX,0.4,color=(0.0,255))\n",
    "        cv2.circle(im,points,3,color=(0,255,255))\n",
    "    return im\n",
    "\n",
    "def top_lip(landmarks):\n",
    "    top_lip_pts = []\n",
    "    for i in range(50,53):\n",
    "        top_lip_pts.append(landmarks[i])\n",
    "    for i in range(61,64):\n",
    "        top_lip_pts.append(landmarks[i])\n",
    "    top_lip_all_pts = np.squeeze(np.asarray(top_lip_pts))\n",
    "    top_lip_mean = np.mean(top_lip_pts,axis=0)\n",
    "    return int(top_lip_mean[:,1])\n",
    "\n",
    "def bottom_lip(landmarks):\n",
    "    bottom_lip_pts = []\n",
    "    for i in range(65,68):\n",
    "        bottom_lip_pts.append(landmarks[i])\n",
    "    for i in range(56,59):\n",
    "        bottom_lip_pts.append(landmarks[i])\n",
    "    bottom_lip_all_pts = np.squeeze(np.asarray(bottom_lip_pts))\n",
    "    bottom_lip_mean = np.mean(bottom_lip_pts,axis=0)\n",
    "    return int(bottom_lip_mean[:,1])\n",
    "\n",
    "def mouth_open(image):\n",
    "    landmarks = get_landmarks(image)\n",
    "    if landmarks == \"Error\":\n",
    "        return image,0\n",
    "    image_with_landmarks = annotate_landmarks(image,landmarks)\n",
    "    top_lip_center = top_lip(landmarks)\n",
    "    bottom_lip_center = bottom_lip(landmarks)\n",
    "    lip_distance = abs(top_lip_center-bottom_lip_center)\n",
    "    return  image_with_landmarks,lip_distance\n",
    "\n",
    "cap = cv2.VideoCapture(0)\n",
    "yawns = 0\n",
    "yawn_status = False\n",
    "while True:\n",
    "    ret,frame = cap.read()\n",
    "    image_landmarks, lip_distance = mouth_open(frame)\n",
    "    prev_yawn_status = yawn_status\n",
    "    if lip_distance > 15:\n",
    "        yawn_status = True\n",
    "\n",
    "        cv2.putText(frame,\"Subject is Yawing\",(50,450),\n",
    "                    cv2.FONT_HERSHEY_SIMPLEX,1,(0,255,127),2)\n",
    "    else:\n",
    "        yawn_status = False\n",
    "\n",
    "    if prev_yawn_status == True and yawn_status == False:\n",
    "        yawns +=1\n",
    "\n",
    "    cv2.imshow(\"Live Landmarks\",image_landmarks)\n",
    "    cv2.imshow('Yawn Detection', frame)\n",
    "\n",
    "    if cv2.waitKey(1) & 0xFF == ord(\"q\"):\n",
    "        break\n",
    "\n",
    "cap.release()\n",
    "cv2.destroyAllWindows()"
   ]
  }
 ],
 "metadata": {
  "kernelspec": {
   "display_name": "Python 3",
   "language": "python",
   "name": "python3"
  },
  "language_info": {
   "codemirror_mode": {
    "name": "ipython",
    "version": 2
   },
   "file_extension": ".py",
   "mimetype": "text/x-python",
   "name": "python",
   "nbconvert_exporter": "python",
   "pygments_lexer": "ipython2",
   "version": "2.7.6"
  }
 },
 "nbformat": 4,
 "nbformat_minor": 0
}