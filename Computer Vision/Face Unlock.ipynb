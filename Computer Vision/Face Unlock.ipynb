{
 "cells": [
  {
   "cell_type": "code",
   "execution_count": null,
   "metadata": {
    "collapsed": true
   },
   "outputs": [],
   "source": [
    "import cv2\n",
    "import numpy as np\n",
    "\n",
    "face_classifier = cv2.CascadeClassifier(\"F:\\\\Master OpenCV\\\\Haarcascades\\\\haarcascade_frontalface_default.xml\")\n",
    "\n",
    "def face_extractor(img):\n",
    "    gray = cv2.cvtColor(img, cv2.COLOR_BGR2GRAY)\n",
    "    faces = face_classifier.detectMultiScale(gray, 1.3, 5)\n",
    "\n",
    "    if faces is ():\n",
    "        return None\n",
    "    for (x, y ,w, h) in faces:\n",
    "        cropped_face = img[y:y+h, x:x+w]\n",
    "        return cropped_face\n",
    "\n",
    "cap = cv2.VideoCapture(0)\n",
    "count = 0\n",
    "\n",
    "while True:\n",
    "    ret, frame = cap.read()\n",
    "    if face_extractor(frame) is not None:\n",
    "        count+=1\n",
    "        face = cv2.resize(face_extractor(frame),(200,200))\n",
    "        face = cv2.cvtColor(face, cv2.COLOR_BGR2GRAY)\n",
    "        file_path_name = \"./face/user\"+str(count)+'.jpg'\n",
    "        cv2.imwrite(file_path_name,face)\n",
    "        cv2.putText(face, str(count),(50,50),cv2.FONT_HERSHEY_COMPLEX_SMALL, 1, (0,255,0), 2)\n",
    "        cv2.imshow('Face Cropper', face)\n",
    "    else:\n",
    "        print(\"No Face Found\")\n",
    "        pass\n",
    "\n",
    "    if cv2.waitKey(0) & 0xFF == ord('q') or count == 100:\n",
    "        break"
   ]
  },
  {
   "cell_type": "code",
   "execution_count": null,
   "outputs": [],
   "source": [
    "from os import listdir\n",
    "from os.path import isfile, join\n",
    "\n",
    "data_path = \"./face/user\"\n",
    "onlyfiles = [f for f in listdir(data_path) if isfile(join(data_path,f))]\n",
    "Training_data, Labels = [], []\n",
    "for i,files in enumerate(onlyfiles):\n",
    "    image_path = data_path + onlyfiles[i]\n",
    "    images = cv2.imread(image_path, cv2.COLOR_BGR2GRAY)\n",
    "    Training_data.append(np.asarray(images,np.uint8))\n",
    "    Labels.append(i)\n",
    "\n",
    "Labels = np.asarray(Labels,np.int32)\n",
    "\n",
    "model = cv2.face_LBPHFaceRecognizer()\n",
    "model.train(np.asarray(Training_data),np.asarray(Labels))\n",
    "print(\"model trained successfully\")\n"
   ],
   "metadata": {
    "collapsed": false,
    "pycharm": {
     "name": "#%%\n"
    }
   }
  },
  {
   "cell_type": "code",
   "execution_count": null,
   "outputs": [],
   "source": [
    "face_classifier = cv2.CascadeClassifier(\"F:\\\\Master OpenCV\\\\Haarcascades\\\\haarcascade_frontalface_default.xml\")\n",
    "def face_detector(img, size=0.5):\n",
    "    gray = cv2.cvtColor(img,cv2.COLOR_BGR2GRAY)\n",
    "    faces = face_classifier.detectMultiScale(gray, 1.3, 5)\n",
    "    if faces is ():\n",
    "        return img, []\n",
    "    for (x, y, w, h) in faces:\n",
    "        cv2.rectangle(img, (x, y), (x+w, y+h),(0,255,255), 2)\n",
    "        roi = img[y:y+h, x:x+w]\n",
    "        roi = cv2.resize(roi, (200,200))\n",
    "        return img, roi\n",
    "\n",
    "cap = cv2.VideoCapture(0)\n",
    "while True:\n",
    "    ret, frame = cap.read()\n",
    "    image, face = face_detector(frame)\n",
    "    try:\n",
    "        face = cv2.cvtColor(face, cv2.COLOR_BGR2GRAY)\n",
    "        results = model.predict(face)\n",
    "        if results[1] < 500:\n",
    "            confidence = int(100 * (1 - (results[1]/300)))\n",
    "            display_string = str(confidence) + '% Confident it is User'\n",
    "        cv2.putText(image, display_string, (100, 120), cv2.FONT_HERSHEY_COMPLEX_SMALL, 1, (255,120,150), 2)\n",
    "        if confidence > 75:\n",
    "            cv2.putText(image, \"Unlocked\", (250,450), cv2.FONT_HERSHEY_COMPLEX_SMALL, 1, (255,0,150), 2)\n",
    "            cv2.imshow(\"Face Croper\", image)\n",
    "        else:\n",
    "            cv2.putText(image, \"Locked\", (250,450), cv2.FONT_HERSHEY_COMPLEX_SMALL, 1, (255,0,150), 2)\n",
    "            cv2.imshow(\"Face Croper\", image)\n",
    "    except:\n",
    "        cv2.putText(image, \"No Face Fpund\", (220,120), cv2.FONT_HERSHEY_COMPLEX_SMALL, 1, (255,0,150), 2)\n",
    "        cv2.putText(image, \"Locked\", (250,450), cv2.FONT_HERSHEY_COMPLEX_SMALL, 1, (255,0,150), 2)\n",
    "        cv2.imshow(\"Face Croper\", image)\n",
    "        pass\n",
    "    if cv2.waitKey(0) & 0xFF == ord('q'):\n",
    "        break\n",
    "\n",
    "cap.release()\n",
    "cv2.destroyAllWindows()\n",
    "\n"
   ],
   "metadata": {
    "collapsed": false,
    "pycharm": {
     "name": "#%%\n"
    }
   }
  }
 ],
 "metadata": {
  "kernelspec": {
   "display_name": "Python 3",
   "language": "python",
   "name": "python3"
  },
  "language_info": {
   "codemirror_mode": {
    "name": "ipython",
    "version": 2
   },
   "file_extension": ".py",
   "mimetype": "text/x-python",
   "name": "python",
   "nbconvert_exporter": "python",
   "pygments_lexer": "ipython2",
   "version": "2.7.6"
  }
 },
 "nbformat": 4,
 "nbformat_minor": 0
}