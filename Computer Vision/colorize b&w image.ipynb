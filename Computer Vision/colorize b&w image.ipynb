{
 "cells": [
  {
   "cell_type": "code",
   "execution_count": 1,
   "metadata": {
    "collapsed": true,
    "pycharm": {
     "name": "#%%\n"
    }
   },
   "outputs": [],
   "source": [
    "import cv2\n",
    "import numpy as np\n",
    "from os import listdir\n",
    "from os.path import isfile, join\n",
    "\n",
    "# Get our images\n",
    "file_path = \"F:/blackandwhite/\"\n",
    "blackandwhite_imgs = [f for f in listdir(file_path) if isfile(join(file_path, f))]\n",
    "kernel = 'F:/Colorizing kernel/pts_in_hull.npy'\n",
    "\n",
    "# Start the main program\n",
    "if __name__ == '__main__':\n",
    "\n",
    "    # Select desired model\n",
    "    net = cv2.dnn.readNetFromCaffe(\"F:/Colorizing kernel/colorization_deploy_v2.prototxt\",\n",
    "                               \"F:/Colorizing kernel/colorization_release_v2.caffemodel\")\n",
    "\n",
    "    # load cluster centers\n",
    "    pts_in_hull = np.load(kernel)\n",
    "\n",
    "    # populate cluster centers as 1x1 convolution kernel\n",
    "    pts_in_hull = pts_in_hull.transpose().reshape(2, 313, 1, 1)\n",
    "    net.getLayer(net.getLayerId('class8_ab')).blobs = [pts_in_hull.astype(np.float32)]\n",
    "    net.getLayer(net.getLayerId('conv8_313_rh')).blobs = [np.full([1, 313], 2.606, np.float32)]\n",
    "\n",
    "    for image in blackandwhite_imgs:\n",
    "        img = cv2.imread(file_path+image)\n",
    "\n",
    "        img_rgb = (img[:,:,[2, 1, 0]] * 1.0 / 255).astype(np.float32)\n",
    "        img_lab = cv2.cvtColor(img_rgb, cv2.COLOR_BGR2LAB)\n",
    "\n",
    "        # pull out L channel\n",
    "        img_l = img_lab[:,:,0]\n",
    "        # get original image size\n",
    "        (H_orig,W_orig) = img_rgb.shape[:2]\n",
    "\n",
    "        # resize image to network input size\n",
    "        img_rs = cv2.resize(img_rgb, (224, 224))\n",
    "\n",
    "        # resize image to network input size\n",
    "        img_lab_rs = cv2.cvtColor(img_rs, cv2.COLOR_RGB2Lab)\n",
    "        img_l_rs = img_lab_rs[:,:,0]\n",
    "\n",
    "        # subtract 50 for mean-centering\n",
    "        img_l_rs -= 50\n",
    "\n",
    "        net.setInput(cv2.dnn.blobFromImage(img_l_rs))\n",
    "\n",
    "        # this is our result\n",
    "        ab_dec = net.forward('class8_ab')[0,:,:,:].transpose((1,2,0))\n",
    "\n",
    "        (H_out,W_out) = ab_dec.shape[:2]\n",
    "        ab_dec_us = cv2.resize(ab_dec, (W_orig, H_orig))\n",
    "        img_lab_out = np.concatenate((img_l[:,:,np.newaxis],ab_dec_us),axis=2)\n",
    "\n",
    "        # concatenate with original image L\n",
    "        img_bgr_out = np.clip(cv2.cvtColor(img_lab_out, cv2.COLOR_Lab2BGR), 0, 1)\n",
    "\n",
    "        # show original image\n",
    "        cv2.imshow('Original', img)\n",
    "        # Resize the corlized image to it's orginal dimensions\n",
    "        img_bgr_out = cv2.resize(img_bgr_out, (W_orig, H_orig), interpolation = cv2.INTER_AREA)\n",
    "        cv2.imshow('Colorized', img_bgr_out)\n",
    "        cv2.waitKey(0)\n",
    "        if cv2.waitKey(1) >= 0:\n",
    "            break\n",
    "\n",
    "cv2.destroyAllWindows()"
   ]
  },
  {
   "cell_type": "code",
   "execution_count": null,
   "outputs": [],
   "source": [
    "\n"
   ],
   "metadata": {
    "collapsed": false,
    "pycharm": {
     "name": "#%%\n"
    }
   }
  }
 ],
 "metadata": {
  "kernelspec": {
   "name": "conda-env-anaconda3-tensorflow-py",
   "language": "python",
   "display_name": "Python [conda env:anaconda3-tensorflow]"
  },
  "language_info": {
   "codemirror_mode": {
    "name": "ipython",
    "version": 2
   },
   "file_extension": ".py",
   "mimetype": "text/x-python",
   "name": "python",
   "nbconvert_exporter": "python",
   "pygments_lexer": "ipython2",
   "version": "2.7.6"
  }
 },
 "nbformat": 4,
 "nbformat_minor": 0
}