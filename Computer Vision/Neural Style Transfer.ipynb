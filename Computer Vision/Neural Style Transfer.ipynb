{
 "cells": [
  {
   "cell_type": "code",
   "execution_count": 1,
   "metadata": {
    "collapsed": true
   },
   "outputs": [
    {
     "name": "stdout",
     "output_type": "stream",
     "text": [
      "1. Using Model: candy\n",
      "2. Using Model: composition_vii\n",
      "3. Using Model: feathers\n",
      "4. Using Model: la_muse\n",
      "5. Using Model: mosaic\n",
      "6. Using Model: starry_night\n",
      "7. Using Model: the_scream\n",
      "8. Using Model: the_wave\n",
      "9. Using Model: udnie\n"
     ]
    }
   ],
   "source": [
    "from os import listdir\n",
    "from os.path import isfile, join\n",
    "import cv2\n",
    "\n",
    "model_file_path = \"F:/Neural Style Transformer/models/\"\n",
    "model_file_paths = [f for f in listdir(model_file_path) if isfile(join(model_file_path, f))]\n",
    "img = cv2.imread(\"F:/Neural Style Transformer/art/feathers.jpg\")\n",
    "\n",
    "for (i,model) in enumerate(model_file_paths):\n",
    "    print(str(i+1) + \". Using Model: \" + str(model)[:-3])\n",
    "    style = cv2.imread(\"F:/Neural Style Transformer/art/\"+str(model)[:-3]+\".jpg\")\n",
    "    neuralStyleModel = cv2.dnn.readNetFromTorch(model_file_path+ model)\n",
    "\n",
    "    height, width = int(img.shape[0]), int(img.shape[1])\n",
    "    newWidth = int((640 / height) * width)\n",
    "    resizedImg = cv2.resize(img, (newWidth, 640), interpolation = cv2.INTER_AREA)\n",
    "\n",
    "    inpBlob = cv2.dnn.blobFromImage(resizedImg, 1.0, (newWidth, 640),\n",
    "                               (103.939, 116.779, 123.68), swapRB=False, crop=False)\n",
    "\n",
    "    neuralStyleModel.setInput(inpBlob)\n",
    "    output = neuralStyleModel.forward()\n",
    "    output = output.reshape(3, output.shape[2], output.shape[3])\n",
    "    output[0] += 103.939\n",
    "    output[1] += 116.779\n",
    "    output[2] += 123.68\n",
    "    output /= 255\n",
    "    output = output.transpose(1, 2, 0)\n",
    "\n",
    "    cv2.imshow(\"Original\", img)\n",
    "    cv2.imshow(\"Style\", style)\n",
    "    cv2.imshow(\"Neural Style Transfers\", output)\n",
    "    cv2.waitKey(0)\n",
    "\n",
    "cv2.destroyAllWindows()"
   ]
  },
  {
   "cell_type": "markdown",
   "source": [
    "FOR WEBCAM"
   ],
   "metadata": {
    "collapsed": false,
    "pycharm": {
     "name": "#%% md\n"
    }
   }
  },
  {
   "cell_type": "code",
   "execution_count": null,
   "outputs": [],
   "source": [
    "import cv2\n",
    "\n",
    "\n",
    "def NeuralStyleTransfer(img, model, size = 320, upscale = 1):\n",
    "\n",
    "    model_file_path = \"./models/\"\n",
    "    style = cv2.imread(\"./art/\"+str(model)[:-3]+\".jpg\")\n",
    "\n",
    "    neuralStyleModel = cv2.dnn.readNetFromTorch(model_file_path+ model+\".t7\")\n",
    "\n",
    "    height, width = int(img.shape[0]), int(img.shape[1])\n",
    "    newWidth = int((size / height) * width)\n",
    "    resizedImg = cv2.resize(img, (newWidth, size), interpolation = cv2.INTER_AREA)\n",
    "\n",
    "    inpBlob = cv2.dnn.blobFromImage(resizedImg, 1.0, (newWidth, size),\n",
    "                               (103.939, 116.779, 123.68), swapRB=False, crop=False)\n",
    "\n",
    "    neuralStyleModel.setInput(inpBlob)\n",
    "    output = neuralStyleModel.forward()\n",
    "\n",
    "    output = output.reshape(3, output.shape[2], output.shape[3])\n",
    "    output[0] += 103.939\n",
    "    output[1] += 116.779\n",
    "    output[2] += 123.68\n",
    "    output /= 255\n",
    "    output = output.transpose(1, 2, 0)\n",
    "    output = cv2.resize(output, None, fx=upscale, fy=upscale, interpolation = cv2.INTER_LINEAR)\n",
    "    return output\n",
    "\n",
    "\n",
    "cap = cv2.VideoCapture(0)\n",
    "\n",
    "\n",
    "while True:\n",
    "    ret, frame = cap.read()\n",
    "    cv2.imshow('Neural Style Transfers', NeuralStyleTransfer(frame, \"mosaic\", 320, 2))\n",
    "    if cv2.waitKey(1) == 13:\n",
    "        break\n",
    "cap.release()\n",
    "cv2.destroyAllWindows()\n"
   ],
   "metadata": {
    "collapsed": false,
    "pycharm": {
     "name": "#%%\n"
    }
   }
  }
 ],
 "metadata": {
  "kernelspec": {
   "display_name": "Python 3",
   "language": "python",
   "name": "python3"
  },
  "language_info": {
   "codemirror_mode": {
    "name": "ipython",
    "version": 2
   },
   "file_extension": ".py",
   "mimetype": "text/x-python",
   "name": "python",
   "nbconvert_exporter": "python",
   "pygments_lexer": "ipython2",
   "version": "2.7.6"
  }
 },
 "nbformat": 4,
 "nbformat_minor": 0
}