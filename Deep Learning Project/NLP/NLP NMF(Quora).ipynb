{
 "cells": [
  {
   "cell_type": "code",
   "execution_count": 26,
   "metadata": {
    "collapsed": true
   },
   "outputs": [],
   "source": [
    "import pandas as pd"
   ]
  },
  {
   "cell_type": "code",
   "execution_count": 27,
   "outputs": [],
   "source": [
    "quora = pd.read_csv(\"F:\\\\Datasets\\\\quora_questions.csv\")"
   ],
   "metadata": {
    "collapsed": false,
    "pycharm": {
     "name": "#%%\n"
    }
   }
  },
  {
   "cell_type": "code",
   "execution_count": 28,
   "outputs": [
    {
     "data": {
      "text/plain": "                                                 Question\n0       What is the step by step guide to invest in sh...\n1       What is the story of Kohinoor (Koh-i-Noor) Dia...\n2       How can I increase the speed of my internet co...\n3       Why am I mentally very lonely? How can I solve...\n4       Which one dissolve in water quikly sugar, salt...\n...                                                   ...\n404284  How many keywords are there in the Racket prog...\n404285          Do you believe there is life after death?\n404286                                  What is one coin?\n404287  What is the approx annual cost of living while...\n404288              What is like to have sex with cousin?\n\n[404289 rows x 1 columns]",
      "text/html": "<div>\n<style scoped>\n    .dataframe tbody tr th:only-of-type {\n        vertical-align: middle;\n    }\n\n    .dataframe tbody tr th {\n        vertical-align: top;\n    }\n\n    .dataframe thead th {\n        text-align: right;\n    }\n</style>\n<table border=\"1\" class=\"dataframe\">\n  <thead>\n    <tr style=\"text-align: right;\">\n      <th></th>\n      <th>Question</th>\n    </tr>\n  </thead>\n  <tbody>\n    <tr>\n      <th>0</th>\n      <td>What is the step by step guide to invest in sh...</td>\n    </tr>\n    <tr>\n      <th>1</th>\n      <td>What is the story of Kohinoor (Koh-i-Noor) Dia...</td>\n    </tr>\n    <tr>\n      <th>2</th>\n      <td>How can I increase the speed of my internet co...</td>\n    </tr>\n    <tr>\n      <th>3</th>\n      <td>Why am I mentally very lonely? How can I solve...</td>\n    </tr>\n    <tr>\n      <th>4</th>\n      <td>Which one dissolve in water quikly sugar, salt...</td>\n    </tr>\n    <tr>\n      <th>...</th>\n      <td>...</td>\n    </tr>\n    <tr>\n      <th>404284</th>\n      <td>How many keywords are there in the Racket prog...</td>\n    </tr>\n    <tr>\n      <th>404285</th>\n      <td>Do you believe there is life after death?</td>\n    </tr>\n    <tr>\n      <th>404286</th>\n      <td>What is one coin?</td>\n    </tr>\n    <tr>\n      <th>404287</th>\n      <td>What is the approx annual cost of living while...</td>\n    </tr>\n    <tr>\n      <th>404288</th>\n      <td>What is like to have sex with cousin?</td>\n    </tr>\n  </tbody>\n</table>\n<p>404289 rows × 1 columns</p>\n</div>"
     },
     "execution_count": 28,
     "metadata": {},
     "output_type": "execute_result"
    }
   ],
   "source": [
    "quora"
   ],
   "metadata": {
    "collapsed": false,
    "pycharm": {
     "name": "#%%\n"
    }
   }
  },
  {
   "cell_type": "code",
   "execution_count": 29,
   "outputs": [
    {
     "data": {
      "text/plain": "404289"
     },
     "execution_count": 29,
     "metadata": {},
     "output_type": "execute_result"
    }
   ],
   "source": [
    "len(quora)"
   ],
   "metadata": {
    "collapsed": false,
    "pycharm": {
     "name": "#%%\n"
    }
   }
  },
  {
   "cell_type": "code",
   "execution_count": 30,
   "outputs": [],
   "source": [
    "from sklearn.feature_extraction.text import TfidfVectorizer"
   ],
   "metadata": {
    "collapsed": false,
    "pycharm": {
     "name": "#%%\n"
    }
   }
  },
  {
   "cell_type": "code",
   "execution_count": 31,
   "outputs": [],
   "source": [
    "tf = TfidfVectorizer(max_df=0.95, min_df=2, stop_words='english')"
   ],
   "metadata": {
    "collapsed": false,
    "pycharm": {
     "name": "#%%\n"
    }
   }
  },
  {
   "cell_type": "code",
   "execution_count": 32,
   "outputs": [],
   "source": [
    "dtm = tf.fit_transform(quora.Question)"
   ],
   "metadata": {
    "collapsed": false,
    "pycharm": {
     "name": "#%%\n"
    }
   }
  },
  {
   "cell_type": "code",
   "execution_count": 33,
   "outputs": [
    {
     "data": {
      "text/plain": "<404289x38669 sparse matrix of type '<class 'numpy.float64'>'\n\twith 2002912 stored elements in Compressed Sparse Row format>"
     },
     "execution_count": 33,
     "metadata": {},
     "output_type": "execute_result"
    }
   ],
   "source": [
    "dtm"
   ],
   "metadata": {
    "collapsed": false,
    "pycharm": {
     "name": "#%%\n"
    }
   }
  },
  {
   "cell_type": "code",
   "execution_count": 34,
   "outputs": [
    {
     "data": {
      "text/plain": "38669"
     },
     "execution_count": 34,
     "metadata": {},
     "output_type": "execute_result"
    }
   ],
   "source": [
    "len(tf.get_feature_names())"
   ],
   "metadata": {
    "collapsed": false,
    "pycharm": {
     "name": "#%%\n"
    }
   }
  },
  {
   "cell_type": "code",
   "execution_count": 35,
   "outputs": [],
   "source": [
    "from sklearn.decomposition import NMF"
   ],
   "metadata": {
    "collapsed": false,
    "pycharm": {
     "name": "#%%\n"
    }
   }
  },
  {
   "cell_type": "code",
   "execution_count": 36,
   "outputs": [],
   "source": [
    "nmf_model = NMF(n_components=7,random_state=42)"
   ],
   "metadata": {
    "collapsed": false,
    "pycharm": {
     "name": "#%%\n"
    }
   }
  },
  {
   "cell_type": "code",
   "execution_count": 37,
   "outputs": [
    {
     "data": {
      "text/plain": "NMF(n_components=7, random_state=42)"
     },
     "execution_count": 37,
     "metadata": {},
     "output_type": "execute_result"
    }
   ],
   "source": [
    "nmf_model.fit(dtm)"
   ],
   "metadata": {
    "collapsed": false,
    "pycharm": {
     "name": "#%%\n"
    }
   }
  },
  {
   "cell_type": "code",
   "execution_count": 38,
   "outputs": [
    {
     "data": {
      "text/plain": "(7, 38669)"
     },
     "execution_count": 38,
     "metadata": {},
     "output_type": "execute_result"
    }
   ],
   "source": [
    "nmf_model.components_.shape"
   ],
   "metadata": {
    "collapsed": false,
    "pycharm": {
     "name": "#%%\n"
    }
   }
  },
  {
   "cell_type": "code",
   "execution_count": 39,
   "outputs": [
    {
     "name": "stdout",
     "output_type": "stream",
     "text": [
      "currently at topic #0\n",
      "['phone', 'india', 'lose', 'buy', 'laptop', 'time', 'movie', 'ways', '2016', 'weight', 'books', 'book', 'movies', 'way', 'best']\n",
      "\n",
      "\n",
      "\n",
      "\n",
      "currently at topic #1\n",
      "['new', 'compare', 'look', 'cost', 'really', 'girl', 'love', 'long', 'sex', 'time', 'work', 'feel', 'like', 'mean', 'does']\n",
      "\n",
      "\n",
      "\n",
      "\n",
      "currently at topic #2\n",
      "['post', 'answered', 'use', 'improvement', 'delete', 'easily', 'asked', 'google', 'answer', 'answers', 'ask', 'question', 'questions', 'people', 'quora']\n",
      "\n",
      "\n",
      "\n",
      "\n",
      "currently at topic #3\n",
      "['easiest', 'rupee', 'home', 'easy', 'notes', '1000', '500', 'black', 'youtube', 'ways', 'way', 'earn', 'online', 'make', 'money']\n",
      "\n",
      "\n",
      "\n",
      "\n",
      "currently at topic #4\n",
      "['moment', 'live', 'employees', 'like', 'want', 'real', 'love', 'things', 'day', 'important', 'thing', 'know', 'meaning', 'purpose', 'life']\n",
      "\n",
      "\n",
      "\n",
      "\n",
      "currently at topic #5\n",
      "['election', 'war', '1000', 'people', 'notes', '500', 'win', 'think', 'did', 'hillary', 'clinton', 'president', 'donald', 'trump', 'india']\n",
      "\n",
      "\n",
      "\n",
      "\n",
      "currently at topic #6\n",
      "['speaking', 'languages', 'writing', 'java', 'speak', 'learning', 'skills', 'start', 'way', 'good', 'improve', 'programming', 'language', 'english', 'learn']\n",
      "\n",
      "\n",
      "\n",
      "\n"
     ]
    }
   ],
   "source": [
    "for index,topic in enumerate(nmf_model.components_):\n",
    "    print(f\"currently at topic #{index}\")\n",
    "    print([tf.get_feature_names()[i] for i in topic.argsort()[-15:]])\n",
    "    print(\"\\n\")\n",
    "    print(\"\\n\")"
   ],
   "metadata": {
    "collapsed": false,
    "pycharm": {
     "name": "#%%\n"
    }
   }
  },
  {
   "cell_type": "code",
   "execution_count": 40,
   "outputs": [],
   "source": [
    "topic_result = nmf_model.transform(dtm)"
   ],
   "metadata": {
    "collapsed": false,
    "pycharm": {
     "name": "#%%\n"
    }
   }
  },
  {
   "cell_type": "code",
   "execution_count": 41,
   "outputs": [
    {
     "data": {
      "text/plain": "(404289, 7)"
     },
     "execution_count": 41,
     "metadata": {},
     "output_type": "execute_result"
    }
   ],
   "source": [
    "topic_result.shape"
   ],
   "metadata": {
    "collapsed": false,
    "pycharm": {
     "name": "#%%\n"
    }
   }
  },
  {
   "cell_type": "code",
   "execution_count": 42,
   "outputs": [],
   "source": [
    "quora['Topic_Label'] = topic_result.argmax(axis=1)"
   ],
   "metadata": {
    "collapsed": false,
    "pycharm": {
     "name": "#%%\n"
    }
   }
  },
  {
   "cell_type": "code",
   "execution_count": 43,
   "outputs": [
    {
     "data": {
      "text/plain": "                                                 Question  Topic_Label\n0       What is the step by step guide to invest in sh...            5\n1       What is the story of Kohinoor (Koh-i-Noor) Dia...            4\n2       How can I increase the speed of my internet co...            3\n3       Why am I mentally very lonely? How can I solve...            1\n4       Which one dissolve in water quikly sugar, salt...            1\n...                                                   ...          ...\n404284  How many keywords are there in the Racket prog...            6\n404285          Do you believe there is life after death?            4\n404286                                  What is one coin?            5\n404287  What is the approx annual cost of living while...            5\n404288              What is like to have sex with cousin?            1\n\n[404289 rows x 2 columns]",
      "text/html": "<div>\n<style scoped>\n    .dataframe tbody tr th:only-of-type {\n        vertical-align: middle;\n    }\n\n    .dataframe tbody tr th {\n        vertical-align: top;\n    }\n\n    .dataframe thead th {\n        text-align: right;\n    }\n</style>\n<table border=\"1\" class=\"dataframe\">\n  <thead>\n    <tr style=\"text-align: right;\">\n      <th></th>\n      <th>Question</th>\n      <th>Topic_Label</th>\n    </tr>\n  </thead>\n  <tbody>\n    <tr>\n      <th>0</th>\n      <td>What is the step by step guide to invest in sh...</td>\n      <td>5</td>\n    </tr>\n    <tr>\n      <th>1</th>\n      <td>What is the story of Kohinoor (Koh-i-Noor) Dia...</td>\n      <td>4</td>\n    </tr>\n    <tr>\n      <th>2</th>\n      <td>How can I increase the speed of my internet co...</td>\n      <td>3</td>\n    </tr>\n    <tr>\n      <th>3</th>\n      <td>Why am I mentally very lonely? How can I solve...</td>\n      <td>1</td>\n    </tr>\n    <tr>\n      <th>4</th>\n      <td>Which one dissolve in water quikly sugar, salt...</td>\n      <td>1</td>\n    </tr>\n    <tr>\n      <th>...</th>\n      <td>...</td>\n      <td>...</td>\n    </tr>\n    <tr>\n      <th>404284</th>\n      <td>How many keywords are there in the Racket prog...</td>\n      <td>6</td>\n    </tr>\n    <tr>\n      <th>404285</th>\n      <td>Do you believe there is life after death?</td>\n      <td>4</td>\n    </tr>\n    <tr>\n      <th>404286</th>\n      <td>What is one coin?</td>\n      <td>5</td>\n    </tr>\n    <tr>\n      <th>404287</th>\n      <td>What is the approx annual cost of living while...</td>\n      <td>5</td>\n    </tr>\n    <tr>\n      <th>404288</th>\n      <td>What is like to have sex with cousin?</td>\n      <td>1</td>\n    </tr>\n  </tbody>\n</table>\n<p>404289 rows × 2 columns</p>\n</div>"
     },
     "execution_count": 43,
     "metadata": {},
     "output_type": "execute_result"
    }
   ],
   "source": [
    "quora"
   ],
   "metadata": {
    "collapsed": false,
    "pycharm": {
     "name": "#%%\n"
    }
   }
  },
  {
   "cell_type": "code",
   "execution_count": 44,
   "outputs": [],
   "source": [
    "dict = {0:'electronics',1:'Life',3:'searching',4:'Youtuber',5:'business',6:'election',7:\"programming language\"}\n",
    "quora['topic_description'] = quora.Topic_Label.map(dict)"
   ],
   "metadata": {
    "collapsed": false,
    "pycharm": {
     "name": "#%%\n"
    }
   }
  },
  {
   "cell_type": "code",
   "execution_count": 45,
   "outputs": [
    {
     "data": {
      "text/plain": "                                                 Question  Topic_Label  \\\n0       What is the step by step guide to invest in sh...            5   \n1       What is the story of Kohinoor (Koh-i-Noor) Dia...            4   \n2       How can I increase the speed of my internet co...            3   \n3       Why am I mentally very lonely? How can I solve...            1   \n4       Which one dissolve in water quikly sugar, salt...            1   \n...                                                   ...          ...   \n404284  How many keywords are there in the Racket prog...            6   \n404285          Do you believe there is life after death?            4   \n404286                                  What is one coin?            5   \n404287  What is the approx annual cost of living while...            5   \n404288              What is like to have sex with cousin?            1   \n\n       topic_description  \n0               business  \n1               Youtuber  \n2              searching  \n3                   Life  \n4                   Life  \n...                  ...  \n404284          election  \n404285          Youtuber  \n404286          business  \n404287          business  \n404288              Life  \n\n[404289 rows x 3 columns]",
      "text/html": "<div>\n<style scoped>\n    .dataframe tbody tr th:only-of-type {\n        vertical-align: middle;\n    }\n\n    .dataframe tbody tr th {\n        vertical-align: top;\n    }\n\n    .dataframe thead th {\n        text-align: right;\n    }\n</style>\n<table border=\"1\" class=\"dataframe\">\n  <thead>\n    <tr style=\"text-align: right;\">\n      <th></th>\n      <th>Question</th>\n      <th>Topic_Label</th>\n      <th>topic_description</th>\n    </tr>\n  </thead>\n  <tbody>\n    <tr>\n      <th>0</th>\n      <td>What is the step by step guide to invest in sh...</td>\n      <td>5</td>\n      <td>business</td>\n    </tr>\n    <tr>\n      <th>1</th>\n      <td>What is the story of Kohinoor (Koh-i-Noor) Dia...</td>\n      <td>4</td>\n      <td>Youtuber</td>\n    </tr>\n    <tr>\n      <th>2</th>\n      <td>How can I increase the speed of my internet co...</td>\n      <td>3</td>\n      <td>searching</td>\n    </tr>\n    <tr>\n      <th>3</th>\n      <td>Why am I mentally very lonely? How can I solve...</td>\n      <td>1</td>\n      <td>Life</td>\n    </tr>\n    <tr>\n      <th>4</th>\n      <td>Which one dissolve in water quikly sugar, salt...</td>\n      <td>1</td>\n      <td>Life</td>\n    </tr>\n    <tr>\n      <th>...</th>\n      <td>...</td>\n      <td>...</td>\n      <td>...</td>\n    </tr>\n    <tr>\n      <th>404284</th>\n      <td>How many keywords are there in the Racket prog...</td>\n      <td>6</td>\n      <td>election</td>\n    </tr>\n    <tr>\n      <th>404285</th>\n      <td>Do you believe there is life after death?</td>\n      <td>4</td>\n      <td>Youtuber</td>\n    </tr>\n    <tr>\n      <th>404286</th>\n      <td>What is one coin?</td>\n      <td>5</td>\n      <td>business</td>\n    </tr>\n    <tr>\n      <th>404287</th>\n      <td>What is the approx annual cost of living while...</td>\n      <td>5</td>\n      <td>business</td>\n    </tr>\n    <tr>\n      <th>404288</th>\n      <td>What is like to have sex with cousin?</td>\n      <td>1</td>\n      <td>Life</td>\n    </tr>\n  </tbody>\n</table>\n<p>404289 rows × 3 columns</p>\n</div>"
     },
     "execution_count": 45,
     "metadata": {},
     "output_type": "execute_result"
    }
   ],
   "source": [
    "quora"
   ],
   "metadata": {
    "collapsed": false,
    "pycharm": {
     "name": "#%%\n"
    }
   }
  },
  {
   "cell_type": "code",
   "execution_count": 45,
   "outputs": [],
   "source": [
    "\n"
   ],
   "metadata": {
    "collapsed": false,
    "pycharm": {
     "name": "#%%\n"
    }
   }
  }
 ],
 "metadata": {
  "kernelspec": {
   "display_name": "Python 3",
   "language": "python",
   "name": "python3"
  },
  "language_info": {
   "codemirror_mode": {
    "name": "ipython",
    "version": 2
   },
   "file_extension": ".py",
   "mimetype": "text/x-python",
   "name": "python",
   "nbconvert_exporter": "python",
   "pygments_lexer": "ipython2",
   "version": "2.7.6"
  }
 },
 "nbformat": 4,
 "nbformat_minor": 0
}