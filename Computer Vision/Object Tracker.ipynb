{
 "cells": [
  {
   "cell_type": "code",
   "execution_count": null,
   "metadata": {
    "collapsed": true
   },
   "outputs": [],
   "source": [
    "import cv2\n",
    "import numpy as np\n",
    "cap = cv2.VideoCapture()\n",
    "lower_purple = np.array([130,50,90])\n",
    "upper_purple = np.array([170,255,255])\n",
    "points = []\n",
    "ret, frame = cap.read()\n",
    "height, width = frame.shape[:2]\n",
    "frame_count = 0\n",
    "\n",
    "while True:\n",
    "    ret, frame = cap.read()\n",
    "    hsv_img = cv2.cvtColor(frame, cv2.COLOR_BGR2GRAY)\n",
    "    mask = cv2.inRange(hsv_img, lower_purple, upper_purple)\n",
    "    _, controus, _ = cv2.findContours(mask.copy(),cv2.RETR_EXTERNAL, cv2.CHAIN_APPROX_SIMPLE)\n",
    "    center = (int(height/2),int(width/2))\n",
    "    if len(controus)>0:\n",
    "        c = max(controus, key = cv2.contourArea)\n",
    "        (x,y), radius = cv2.minEnclosingCircle(c)\n",
    "        M = cv2.moments(c)\n",
    "        try:\n",
    "            center = (int(M[\"m10\"]/M[\"m00\"]),int(M[\"m01\"]/M[\"m00\"]))\n",
    "        except:\n",
    "            center = (int(height/2),int(width/2))\n",
    "\n",
    "        if radius>25:\n",
    "            cv2.circle(frame,(int(x),int(y)), int(radius),(0,255,50),2)\n",
    "            cv2.circle(frame,center,5,(255,0,0),-1)\n",
    "    points.append(center)\n",
    "\n",
    "    if radius > 25:\n",
    "        for i in range(1, len(points)):\n",
    "            try:\n",
    "                cv2.line((frame,points[i-1],points[i],(0,255,0),2))\n",
    "            except:\n",
    "                pass\n",
    "        frame_count = 0\n",
    "    else:\n",
    "        frame_count+=1\n",
    "\n",
    "        if frame_count == 10:\n",
    "            points = []\n",
    "            frame_count = 0\n",
    "\n",
    "    frame = cv2.flip(frame, 1)\n",
    "    cv2.imshow(\"Object Tracker\", frame)\n",
    "    if cv2.waitKey(0) & 0xFF == ord('q'):\n",
    "        break\n",
    "cap.release()\n",
    "cv2.destroyAllWindows()"
   ]
  }
 ],
 "metadata": {
  "kernelspec": {
   "display_name": "Python 3",
   "language": "python",
   "name": "python3"
  },
  "language_info": {
   "codemirror_mode": {
    "name": "ipython",
    "version": 2
   },
   "file_extension": ".py",
   "mimetype": "text/x-python",
   "name": "python",
   "nbconvert_exporter": "python",
   "pygments_lexer": "ipython2",
   "version": "2.7.6"
  }
 },
 "nbformat": 4,
 "nbformat_minor": 0
}