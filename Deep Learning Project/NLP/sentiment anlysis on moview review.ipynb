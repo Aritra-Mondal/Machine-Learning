{
 "cells": [
  {
   "cell_type": "code",
   "execution_count": 1,
   "metadata": {
    "collapsed": true
   },
   "outputs": [],
   "source": [
    "import numpy as np\n",
    "import pandas as pd"
   ]
  },
  {
   "cell_type": "code",
   "execution_count": 2,
   "outputs": [],
   "source": [
    "\n",
    "df =  pd.read_csv(\"F:\\\\Datasets\\\\Text Data\\\\moviereviews2.tsv\", sep='\\t')\n",
    "\n"
   ],
   "metadata": {
    "collapsed": false,
    "pycharm": {
     "name": "#%%\n"
    }
   }
  },
  {
   "cell_type": "code",
   "execution_count": 3,
   "outputs": [
    {
     "data": {
      "text/plain": "  label                                             review\n0   pos  I loved this movie and will watch it again. Or...\n1   pos  A warm, touching movie that has a fantasy-like...\n2   pos  I was not expecting the powerful filmmaking ex...\n3   neg  This so-called \"documentary\" tries to tell tha...\n4   pos  This show has been my escape from reality for ...",
      "text/html": "<div>\n<style scoped>\n    .dataframe tbody tr th:only-of-type {\n        vertical-align: middle;\n    }\n\n    .dataframe tbody tr th {\n        vertical-align: top;\n    }\n\n    .dataframe thead th {\n        text-align: right;\n    }\n</style>\n<table border=\"1\" class=\"dataframe\">\n  <thead>\n    <tr style=\"text-align: right;\">\n      <th></th>\n      <th>label</th>\n      <th>review</th>\n    </tr>\n  </thead>\n  <tbody>\n    <tr>\n      <th>0</th>\n      <td>pos</td>\n      <td>I loved this movie and will watch it again. Or...</td>\n    </tr>\n    <tr>\n      <th>1</th>\n      <td>pos</td>\n      <td>A warm, touching movie that has a fantasy-like...</td>\n    </tr>\n    <tr>\n      <th>2</th>\n      <td>pos</td>\n      <td>I was not expecting the powerful filmmaking ex...</td>\n    </tr>\n    <tr>\n      <th>3</th>\n      <td>neg</td>\n      <td>This so-called \"documentary\" tries to tell tha...</td>\n    </tr>\n    <tr>\n      <th>4</th>\n      <td>pos</td>\n      <td>This show has been my escape from reality for ...</td>\n    </tr>\n  </tbody>\n</table>\n</div>"
     },
     "execution_count": 3,
     "metadata": {},
     "output_type": "execute_result"
    }
   ],
   "source": [
    "df.head()"
   ],
   "metadata": {
    "collapsed": false,
    "pycharm": {
     "name": "#%%\n"
    }
   }
  },
  {
   "cell_type": "code",
   "execution_count": 4,
   "outputs": [],
   "source": [
    "import nltk"
   ],
   "metadata": {
    "collapsed": false,
    "pycharm": {
     "name": "#%%\n"
    }
   }
  },
  {
   "cell_type": "code",
   "execution_count": 5,
   "outputs": [],
   "source": [
    "from nltk.sentiment.vader import  SentimentIntensityAnalyzer"
   ],
   "metadata": {
    "collapsed": false,
    "pycharm": {
     "name": "#%%\n"
    }
   }
  },
  {
   "cell_type": "code",
   "execution_count": 6,
   "outputs": [],
   "source": [
    "sid = SentimentIntensityAnalyzer()"
   ],
   "metadata": {
    "collapsed": false,
    "pycharm": {
     "name": "#%%\n"
    }
   }
  },
  {
   "cell_type": "code",
   "execution_count": 7,
   "outputs": [
    {
     "data": {
      "text/plain": "label      0\nreview    20\ndtype: int64"
     },
     "execution_count": 7,
     "metadata": {},
     "output_type": "execute_result"
    }
   ],
   "source": [
    "df.isnull().sum()"
   ],
   "metadata": {
    "collapsed": false,
    "pycharm": {
     "name": "#%%\n"
    }
   }
  },
  {
   "cell_type": "code",
   "execution_count": 8,
   "outputs": [],
   "source": [
    "df.dropna(inplace=True)"
   ],
   "metadata": {
    "collapsed": false,
    "pycharm": {
     "name": "#%%\n"
    }
   }
  },
  {
   "cell_type": "code",
   "execution_count": 9,
   "outputs": [],
   "source": [
    "blanks=[]\n",
    "for i, lb , rv in df.itertuples():\n",
    "    if type(rv)==str:\n",
    "        if rv.isspace():\n",
    "            blanks.append(i)\n"
   ],
   "metadata": {
    "collapsed": false,
    "pycharm": {
     "name": "#%%\n"
    }
   }
  },
  {
   "cell_type": "code",
   "execution_count": 10,
   "outputs": [
    {
     "data": {
      "text/plain": "[]"
     },
     "execution_count": 10,
     "metadata": {},
     "output_type": "execute_result"
    }
   ],
   "source": [
    "blanks"
   ],
   "metadata": {
    "collapsed": false,
    "pycharm": {
     "name": "#%%\n"
    }
   }
  },
  {
   "cell_type": "code",
   "execution_count": 12,
   "outputs": [
    {
     "data": {
      "text/plain": "pos    2990\nneg    2990\nName: label, dtype: int64"
     },
     "execution_count": 12,
     "metadata": {},
     "output_type": "execute_result"
    }
   ],
   "source": [
    "df.label.value_counts()"
   ],
   "metadata": {
    "collapsed": false,
    "pycharm": {
     "name": "#%%\n"
    }
   }
  },
  {
   "cell_type": "code",
   "execution_count": 13,
   "outputs": [],
   "source": [
    "df['score'] = df.review.apply(lambda x:sid.polarity_scores(x))"
   ],
   "metadata": {
    "collapsed": false,
    "pycharm": {
     "name": "#%%\n"
    }
   }
  },
  {
   "cell_type": "code",
   "execution_count": 14,
   "outputs": [],
   "source": [
    "df['compound_score'] = df.score.apply(lambda d:d['compound'])"
   ],
   "metadata": {
    "collapsed": false,
    "pycharm": {
     "name": "#%%\n"
    }
   }
  },
  {
   "cell_type": "code",
   "execution_count": 15,
   "outputs": [
    {
     "data": {
      "text/plain": "  label                                             review  \\\n0   pos  I loved this movie and will watch it again. Or...   \n1   pos  A warm, touching movie that has a fantasy-like...   \n2   pos  I was not expecting the powerful filmmaking ex...   \n3   neg  This so-called \"documentary\" tries to tell tha...   \n4   pos  This show has been my escape from reality for ...   \n\n                                               score  compound_score  \n0  {'neg': 0.062, 'neu': 0.695, 'pos': 0.243, 'co...          0.8720  \n1  {'neg': 0.033, 'neu': 0.783, 'pos': 0.184, 'co...          0.9549  \n2  {'neg': 0.097, 'neu': 0.795, 'pos': 0.108, 'co...          0.7201  \n3  {'neg': 0.116, 'neu': 0.832, 'pos': 0.052, 'co...         -0.9821  \n4  {'neg': 0.031, 'neu': 0.796, 'pos': 0.173, 'co...          0.9874  ",
      "text/html": "<div>\n<style scoped>\n    .dataframe tbody tr th:only-of-type {\n        vertical-align: middle;\n    }\n\n    .dataframe tbody tr th {\n        vertical-align: top;\n    }\n\n    .dataframe thead th {\n        text-align: right;\n    }\n</style>\n<table border=\"1\" class=\"dataframe\">\n  <thead>\n    <tr style=\"text-align: right;\">\n      <th></th>\n      <th>label</th>\n      <th>review</th>\n      <th>score</th>\n      <th>compound_score</th>\n    </tr>\n  </thead>\n  <tbody>\n    <tr>\n      <th>0</th>\n      <td>pos</td>\n      <td>I loved this movie and will watch it again. Or...</td>\n      <td>{'neg': 0.062, 'neu': 0.695, 'pos': 0.243, 'co...</td>\n      <td>0.8720</td>\n    </tr>\n    <tr>\n      <th>1</th>\n      <td>pos</td>\n      <td>A warm, touching movie that has a fantasy-like...</td>\n      <td>{'neg': 0.033, 'neu': 0.783, 'pos': 0.184, 'co...</td>\n      <td>0.9549</td>\n    </tr>\n    <tr>\n      <th>2</th>\n      <td>pos</td>\n      <td>I was not expecting the powerful filmmaking ex...</td>\n      <td>{'neg': 0.097, 'neu': 0.795, 'pos': 0.108, 'co...</td>\n      <td>0.7201</td>\n    </tr>\n    <tr>\n      <th>3</th>\n      <td>neg</td>\n      <td>This so-called \"documentary\" tries to tell tha...</td>\n      <td>{'neg': 0.116, 'neu': 0.832, 'pos': 0.052, 'co...</td>\n      <td>-0.9821</td>\n    </tr>\n    <tr>\n      <th>4</th>\n      <td>pos</td>\n      <td>This show has been my escape from reality for ...</td>\n      <td>{'neg': 0.031, 'neu': 0.796, 'pos': 0.173, 'co...</td>\n      <td>0.9874</td>\n    </tr>\n  </tbody>\n</table>\n</div>"
     },
     "execution_count": 15,
     "metadata": {},
     "output_type": "execute_result"
    }
   ],
   "source": [
    "df.head()"
   ],
   "metadata": {
    "collapsed": false,
    "pycharm": {
     "name": "#%%\n"
    }
   }
  },
  {
   "cell_type": "code",
   "execution_count": 16,
   "outputs": [],
   "source": [
    "df['comp_score'] = df.compound_score.apply(lambda t:'pos' if t>=0 else 'neg')"
   ],
   "metadata": {
    "collapsed": false,
    "pycharm": {
     "name": "#%%\n"
    }
   }
  },
  {
   "cell_type": "code",
   "execution_count": 17,
   "outputs": [
    {
     "data": {
      "text/plain": "  label                                             review  \\\n0   pos  I loved this movie and will watch it again. Or...   \n1   pos  A warm, touching movie that has a fantasy-like...   \n2   pos  I was not expecting the powerful filmmaking ex...   \n3   neg  This so-called \"documentary\" tries to tell tha...   \n4   pos  This show has been my escape from reality for ...   \n\n                                               score  compound_score  \\\n0  {'neg': 0.062, 'neu': 0.695, 'pos': 0.243, 'co...          0.8720   \n1  {'neg': 0.033, 'neu': 0.783, 'pos': 0.184, 'co...          0.9549   \n2  {'neg': 0.097, 'neu': 0.795, 'pos': 0.108, 'co...          0.7201   \n3  {'neg': 0.116, 'neu': 0.832, 'pos': 0.052, 'co...         -0.9821   \n4  {'neg': 0.031, 'neu': 0.796, 'pos': 0.173, 'co...          0.9874   \n\n  comp_score  \n0        pos  \n1        pos  \n2        pos  \n3        neg  \n4        pos  ",
      "text/html": "<div>\n<style scoped>\n    .dataframe tbody tr th:only-of-type {\n        vertical-align: middle;\n    }\n\n    .dataframe tbody tr th {\n        vertical-align: top;\n    }\n\n    .dataframe thead th {\n        text-align: right;\n    }\n</style>\n<table border=\"1\" class=\"dataframe\">\n  <thead>\n    <tr style=\"text-align: right;\">\n      <th></th>\n      <th>label</th>\n      <th>review</th>\n      <th>score</th>\n      <th>compound_score</th>\n      <th>comp_score</th>\n    </tr>\n  </thead>\n  <tbody>\n    <tr>\n      <th>0</th>\n      <td>pos</td>\n      <td>I loved this movie and will watch it again. Or...</td>\n      <td>{'neg': 0.062, 'neu': 0.695, 'pos': 0.243, 'co...</td>\n      <td>0.8720</td>\n      <td>pos</td>\n    </tr>\n    <tr>\n      <th>1</th>\n      <td>pos</td>\n      <td>A warm, touching movie that has a fantasy-like...</td>\n      <td>{'neg': 0.033, 'neu': 0.783, 'pos': 0.184, 'co...</td>\n      <td>0.9549</td>\n      <td>pos</td>\n    </tr>\n    <tr>\n      <th>2</th>\n      <td>pos</td>\n      <td>I was not expecting the powerful filmmaking ex...</td>\n      <td>{'neg': 0.097, 'neu': 0.795, 'pos': 0.108, 'co...</td>\n      <td>0.7201</td>\n      <td>pos</td>\n    </tr>\n    <tr>\n      <th>3</th>\n      <td>neg</td>\n      <td>This so-called \"documentary\" tries to tell tha...</td>\n      <td>{'neg': 0.116, 'neu': 0.832, 'pos': 0.052, 'co...</td>\n      <td>-0.9821</td>\n      <td>neg</td>\n    </tr>\n    <tr>\n      <th>4</th>\n      <td>pos</td>\n      <td>This show has been my escape from reality for ...</td>\n      <td>{'neg': 0.031, 'neu': 0.796, 'pos': 0.173, 'co...</td>\n      <td>0.9874</td>\n      <td>pos</td>\n    </tr>\n  </tbody>\n</table>\n</div>"
     },
     "execution_count": 17,
     "metadata": {},
     "output_type": "execute_result"
    }
   ],
   "source": [
    "df.head()"
   ],
   "metadata": {
    "collapsed": false,
    "pycharm": {
     "name": "#%%\n"
    }
   }
  },
  {
   "cell_type": "code",
   "execution_count": 18,
   "outputs": [],
   "source": [
    "from sklearn.metrics import accuracy_score, confusion_matrix, classification_report"
   ],
   "metadata": {
    "collapsed": false,
    "pycharm": {
     "name": "#%%\n"
    }
   }
  },
  {
   "cell_type": "code",
   "execution_count": 19,
   "outputs": [
    {
     "data": {
      "text/plain": "0.7322742474916388"
     },
     "execution_count": 19,
     "metadata": {},
     "output_type": "execute_result"
    }
   ],
   "source": [
    "accuracy_score(df.label,df.comp_score)"
   ],
   "metadata": {
    "collapsed": false,
    "pycharm": {
     "name": "#%%\n"
    }
   }
  },
  {
   "cell_type": "code",
   "execution_count": 20,
   "outputs": [
    {
     "name": "stdout",
     "output_type": "stream",
     "text": [
      "[[1734 1256]\n",
      " [ 345 2645]]\n"
     ]
    }
   ],
   "source": [
    "print(confusion_matrix(df.label,df.comp_score))"
   ],
   "metadata": {
    "collapsed": false,
    "pycharm": {
     "name": "#%%\n"
    }
   }
  },
  {
   "cell_type": "code",
   "execution_count": 21,
   "outputs": [
    {
     "name": "stdout",
     "output_type": "stream",
     "text": [
      "              precision    recall  f1-score   support\n",
      "\n",
      "         neg       0.83      0.58      0.68      2990\n",
      "         pos       0.68      0.88      0.77      2990\n",
      "\n",
      "    accuracy                           0.73      5980\n",
      "   macro avg       0.76      0.73      0.73      5980\n",
      "weighted avg       0.76      0.73      0.73      5980\n",
      "\n"
     ]
    }
   ],
   "source": [
    "print(classification_report(df.label,df.comp_score))"
   ],
   "metadata": {
    "collapsed": false,
    "pycharm": {
     "name": "#%%\n"
    }
   }
  },
  {
   "cell_type": "code",
   "execution_count": null,
   "outputs": [],
   "source": [
    "\n"
   ],
   "metadata": {
    "collapsed": false,
    "pycharm": {
     "name": "#%%\n"
    }
   }
  }
 ],
 "metadata": {
  "kernelspec": {
   "display_name": "Python 3",
   "language": "python",
   "name": "python3"
  },
  "language_info": {
   "codemirror_mode": {
    "name": "ipython",
    "version": 2
   },
   "file_extension": ".py",
   "mimetype": "text/x-python",
   "name": "python",
   "nbconvert_exporter": "python",
   "pygments_lexer": "ipython2",
   "version": "2.7.6"
  }
 },
 "nbformat": 4,
 "nbformat_minor": 0
}