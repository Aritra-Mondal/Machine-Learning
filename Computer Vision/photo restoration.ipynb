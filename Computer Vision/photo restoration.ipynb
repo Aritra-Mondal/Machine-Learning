{
 "cells": [
  {
   "cell_type": "code",
   "execution_count": 2,
   "metadata": {
    "collapsed": true
   },
   "outputs": [],
   "source": [
    "import cv2\n",
    "import numpy as np\n",
    "image = cv2.imread('F:/Master OpenCV/images/abraham.jpg')\n",
    "cv2.imshow(\"Original Damaged Image\",image)\n",
    "cv2.waitKey(0)\n",
    "marked_damages = cv2.imread('F:/Master OpenCV/images/mask.jpg',0)\n",
    "cv2.imshow(\"Marked Damaged Image\",marked_damages)\n",
    "cv2.waitKey(0)\n",
    "\n",
    "ret, tresh1 = cv2.threshold(marked_damages,254,255,cv2.THRESH_BINARY)\n",
    "cv2.imshow(\"Threshold Binary\",tresh1)\n",
    "cv2.waitKey(0)\n",
    "\n",
    "kernel = np.ones((7,7),np.uint8)\n",
    "mask = cv2.dilate(tresh1, kernel, iterations=1)\n",
    "cv2.imshow(\"Dilated Image\",mask)\n",
    "cv2.waitKey(0)\n",
    "restored = cv2.inpaint(image,mask,3,cv2.INPAINT_TELEA)\n",
    "cv2.imshow(\"Restored\",restored)\n",
    "cv2.waitKey(0)\n",
    "cv2.destroyAllWindows()\n",
    "\n"
   ]
  }
 ],
 "metadata": {
  "kernelspec": {
   "name": "conda-env-anaconda3-tensorflow-py",
   "language": "python",
   "display_name": "Python [conda env:anaconda3-tensorflow]"
  },
  "language_info": {
   "codemirror_mode": {
    "name": "ipython",
    "version": 2
   },
   "file_extension": ".py",
   "mimetype": "text/x-python",
   "name": "python",
   "nbconvert_exporter": "python",
   "pygments_lexer": "ipython2",
   "version": "2.7.6"
  }
 },
 "nbformat": 4,
 "nbformat_minor": 0
}