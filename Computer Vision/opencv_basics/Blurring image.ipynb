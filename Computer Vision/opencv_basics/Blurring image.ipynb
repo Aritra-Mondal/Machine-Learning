{
 "cells": [
  {
   "cell_type": "code",
   "execution_count": 1,
   "metadata": {
    "collapsed": true
   },
   "outputs": [],
   "source": [
    "import cv2\n",
    "import numpy as np"
   ]
  },
  {
   "cell_type": "code",
   "execution_count": 7,
   "outputs": [],
   "source": [
    "image = cv2.imread(\"F:\\\\Master OpenCV\\\\images\\\\elephant.jpg\")"
   ],
   "metadata": {
    "collapsed": false,
    "pycharm": {
     "name": "#%%\n"
    }
   }
  },
  {
   "cell_type": "code",
   "execution_count": 9,
   "outputs": [
    {
     "data": {
      "text/plain": "(519, 778, 3)"
     },
     "execution_count": 9,
     "metadata": {},
     "output_type": "execute_result"
    }
   ],
   "source": [
    "image.shape"
   ],
   "metadata": {
    "collapsed": false,
    "pycharm": {
     "name": "#%%\n"
    }
   }
  },
  {
   "cell_type": "code",
   "execution_count": 11,
   "outputs": [],
   "source": [
    "cv2.imshow(\"Original\",image)\n",
    "cv2.waitKey(0)\n",
    "kernel = np.ones((3,3),np.float32)/9\n",
    "blurred = cv2.filter2D(image,-1,kernel)\n",
    "cv2.imshow(\"3*3 Kernel blurring\",blurred)\n",
    "cv2.waitKey(0)\n",
    "\n",
    "kernel_7X7 = np.ones((7,7),np.float32)/49\n",
    "blurred7 = cv2.filter2D(image,-1,kernel_7X7)\n",
    "cv2.imshow(\"7X7 Kernel blurring\",blurred7)\n",
    "cv2.waitKey(0)\n",
    "\n",
    "cv2.destroyAllWindows()"
   ],
   "metadata": {
    "collapsed": false,
    "pycharm": {
     "name": "#%%\n"
    }
   }
  },
  {
   "cell_type": "code",
   "execution_count": 12,
   "outputs": [
    {
     "data": {
      "text/plain": "-1"
     },
     "execution_count": 12,
     "metadata": {},
     "output_type": "execute_result"
    }
   ],
   "source": [
    "blur = cv2.blur(image,(3,3))\n",
    "cv2.imshow(\"Averaging\",blur)\n",
    "cv2.waitKey()\n",
    "\n",
    "Gaussian = cv2.GaussianBlur(image,(7,7),0)\n",
    "cv2.imshow(\"Gaussing Bluring\",Gaussian)\n",
    "cv2.waitKey()\n",
    "\n",
    "median = cv2.medianBlur(image,5)\n",
    "cv2.imshow(\"median\",median)\n",
    "cv2.waitKey()\n",
    "\n",
    "Bilateral = cv2.bilateralFilter(image,9,75,75)\n",
    "cv2.imshow(\"Bilateral\",Bilateral)\n",
    "cv2.waitKey()\n",
    "cv2.destroyAllWindows()"
   ],
   "metadata": {
    "collapsed": false,
    "pycharm": {
     "name": "#%%\n"
    }
   }
  },
  {
   "cell_type": "code",
   "execution_count": 16,
   "outputs": [],
   "source": [
    "import cv2\n",
    "import numpy as np\n",
    "image = cv2.imread(\"F:\\\\Master OpenCV\\\\images\\\\elephant.jpg\")"
   ],
   "metadata": {
    "collapsed": false,
    "pycharm": {
     "name": "#%%\n"
    }
   }
  },
  {
   "cell_type": "code",
   "execution_count": 17,
   "outputs": [],
   "source": [
    "dst = cv2.fastNlMeansDenoisingColored(image,None,6,6,7,21)\n",
    "cv2.imshow(\"Fast means Denoising\",dst)\n",
    "cv2.waitKey(0)\n",
    "cv2.destroyAllWindows()"
   ],
   "metadata": {
    "collapsed": false,
    "pycharm": {
     "name": "#%%\n"
    }
   }
  },
  {
   "cell_type": "code",
   "execution_count": null,
   "outputs": [],
   "source": [
    "\n"
   ],
   "metadata": {
    "collapsed": false,
    "pycharm": {
     "name": "#%%\n"
    }
   }
  }
 ],
 "metadata": {
  "kernelspec": {
   "display_name": "Python 3",
   "language": "python",
   "name": "python3"
  },
  "language_info": {
   "codemirror_mode": {
    "name": "ipython",
    "version": 2
   },
   "file_extension": ".py",
   "mimetype": "text/x-python",
   "name": "python",
   "nbconvert_exporter": "python",
   "pygments_lexer": "ipython2",
   "version": "2.7.6"
  }
 },
 "nbformat": 4,
 "nbformat_minor": 0
}