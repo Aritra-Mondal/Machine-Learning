{
 "cells": [
  {
   "cell_type": "code",
   "execution_count": 3,
   "metadata": {
    "collapsed": true
   },
   "outputs": [],
   "source": [
    "import cv2\n",
    "\n",
    "image = cv2.imread(\"F:\\\\Master OpenCV\\\\images\\\\input.jpg\",0)\n",
    "cv2.imshow(\"Original\",image)\n",
    "cv2.waitKey()\n",
    "sobel_x = cv2.Sobel(image,cv2.CV_64F,0,1,ksize=5)\n",
    "sobel_y = cv2.Sobel(image,cv2.CV_64F,1,0,ksize=5)\n",
    "\n",
    "cv2.imshow(\"Sobel_X\",sobel_x)\n",
    "cv2.waitKey()\n",
    "\n",
    "cv2.imshow(\"Sobel_Y\",sobel_y)\n",
    "cv2.waitKey()\n",
    "\n",
    "laplacian = cv2.Laplacian(image,cv2.CV_64F)\n",
    "cv2.imshow(\"Laplacian\",laplacian)\n",
    "cv2.waitKey()\n",
    "\n",
    "sobel_OR = cv2.bitwise_or(sobel_x,sobel_y)\n",
    "cv2.imshow(\"OR\",sobel_OR)\n",
    "cv2.waitKey()\n",
    "\n",
    "canny = cv2.Canny(image,20,170)\n",
    "cv2.imshow(\"Canny\",canny)\n",
    "cv2.waitKey()\n",
    "\n",
    "cv2.destroyAllWindows()"
   ]
  },
  {
   "cell_type": "code",
   "execution_count": null,
   "outputs": [],
   "source": [
    "\n"
   ],
   "metadata": {
    "collapsed": false,
    "pycharm": {
     "name": "#%%\n"
    }
   }
  }
 ],
 "metadata": {
  "kernelspec": {
   "display_name": "Python 3",
   "language": "python",
   "name": "python3"
  },
  "language_info": {
   "codemirror_mode": {
    "name": "ipython",
    "version": 2
   },
   "file_extension": ".py",
   "mimetype": "text/x-python",
   "name": "python",
   "nbconvert_exporter": "python",
   "pygments_lexer": "ipython2",
   "version": "2.7.6"
  }
 },
 "nbformat": 4,
 "nbformat_minor": 0
}