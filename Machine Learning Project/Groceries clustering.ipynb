{
 "cells": [
  {
   "cell_type": "code",
   "execution_count": 3,
   "metadata": {
    "collapsed": true
   },
   "outputs": [],
   "source": [
    "import pandas as pd\n",
    "from mlxtend.frequent_patterns import apriori\n",
    "from mlxtend.frequent_patterns import association_rules"
   ]
  },
  {
   "cell_type": "code",
   "execution_count": 4,
   "outputs": [],
   "source": [
    "df = pd.read_excel(\"F:\\\\Datasets\\\\Online Retail.xlsx\")"
   ],
   "metadata": {
    "collapsed": false,
    "pycharm": {
     "name": "#%%\n"
    }
   }
  },
  {
   "cell_type": "code",
   "execution_count": 5,
   "outputs": [
    {
     "output_type": "execute_result",
     "data": {
      "text/plain": "  InvoiceNo StockCode                          Description  Quantity  \\\n0    536365    85123A   WHITE HANGING HEART T-LIGHT HOLDER         6   \n1    536365     71053                  WHITE METAL LANTERN         6   \n2    536365    84406B       CREAM CUPID HEARTS COAT HANGER         8   \n3    536365    84029G  KNITTED UNION FLAG HOT WATER BOTTLE         6   \n4    536365    84029E       RED WOOLLY HOTTIE WHITE HEART.         6   \n\n          InvoiceDate  UnitPrice  CustomerID         Country  \n0 2010-12-01 08:26:00       2.55     17850.0  United Kingdom  \n1 2010-12-01 08:26:00       3.39     17850.0  United Kingdom  \n2 2010-12-01 08:26:00       2.75     17850.0  United Kingdom  \n3 2010-12-01 08:26:00       3.39     17850.0  United Kingdom  \n4 2010-12-01 08:26:00       3.39     17850.0  United Kingdom  ",
      "text/html": "<div>\n<style scoped>\n    .dataframe tbody tr th:only-of-type {\n        vertical-align: middle;\n    }\n\n    .dataframe tbody tr th {\n        vertical-align: top;\n    }\n\n    .dataframe thead th {\n        text-align: right;\n    }\n</style>\n<table border=\"1\" class=\"dataframe\">\n  <thead>\n    <tr style=\"text-align: right;\">\n      <th></th>\n      <th>InvoiceNo</th>\n      <th>StockCode</th>\n      <th>Description</th>\n      <th>Quantity</th>\n      <th>InvoiceDate</th>\n      <th>UnitPrice</th>\n      <th>CustomerID</th>\n      <th>Country</th>\n    </tr>\n  </thead>\n  <tbody>\n    <tr>\n      <th>0</th>\n      <td>536365</td>\n      <td>85123A</td>\n      <td>WHITE HANGING HEART T-LIGHT HOLDER</td>\n      <td>6</td>\n      <td>2010-12-01 08:26:00</td>\n      <td>2.55</td>\n      <td>17850.0</td>\n      <td>United Kingdom</td>\n    </tr>\n    <tr>\n      <th>1</th>\n      <td>536365</td>\n      <td>71053</td>\n      <td>WHITE METAL LANTERN</td>\n      <td>6</td>\n      <td>2010-12-01 08:26:00</td>\n      <td>3.39</td>\n      <td>17850.0</td>\n      <td>United Kingdom</td>\n    </tr>\n    <tr>\n      <th>2</th>\n      <td>536365</td>\n      <td>84406B</td>\n      <td>CREAM CUPID HEARTS COAT HANGER</td>\n      <td>8</td>\n      <td>2010-12-01 08:26:00</td>\n      <td>2.75</td>\n      <td>17850.0</td>\n      <td>United Kingdom</td>\n    </tr>\n    <tr>\n      <th>3</th>\n      <td>536365</td>\n      <td>84029G</td>\n      <td>KNITTED UNION FLAG HOT WATER BOTTLE</td>\n      <td>6</td>\n      <td>2010-12-01 08:26:00</td>\n      <td>3.39</td>\n      <td>17850.0</td>\n      <td>United Kingdom</td>\n    </tr>\n    <tr>\n      <th>4</th>\n      <td>536365</td>\n      <td>84029E</td>\n      <td>RED WOOLLY HOTTIE WHITE HEART.</td>\n      <td>6</td>\n      <td>2010-12-01 08:26:00</td>\n      <td>3.39</td>\n      <td>17850.0</td>\n      <td>United Kingdom</td>\n    </tr>\n  </tbody>\n</table>\n</div>"
     },
     "metadata": {},
     "execution_count": 5
    }
   ],
   "source": [
    "df.head()"
   ],
   "metadata": {
    "collapsed": false,
    "pycharm": {
     "name": "#%%\n"
    }
   }
  },
  {
   "cell_type": "code",
   "execution_count": 6,
   "outputs": [
    {
     "output_type": "execute_result",
     "data": {
      "text/plain": "Index(['InvoiceNo', 'StockCode', 'Description', 'Quantity', 'InvoiceDate',\n       'UnitPrice', 'CustomerID', 'Country'],\n      dtype='object')"
     },
     "metadata": {},
     "execution_count": 6
    }
   ],
   "source": [
    "df.columns"
   ],
   "metadata": {
    "collapsed": false,
    "pycharm": {
     "name": "#%%\n"
    }
   }
  },
  {
   "cell_type": "code",
   "execution_count": 7,
   "outputs": [
    {
     "output_type": "execute_result",
     "data": {
      "text/plain": "array(['United Kingdom', 'France', 'Australia', 'Netherlands', 'Germany',\n       'Norway', 'EIRE', 'Switzerland', 'Spain', 'Poland', 'Portugal',\n       'Italy', 'Belgium', 'Lithuania', 'Japan', 'Iceland',\n       'Channel Islands', 'Denmark', 'Cyprus', 'Sweden', 'Austria',\n       'Israel', 'Finland', 'Bahrain', 'Greece', 'Hong Kong', 'Singapore',\n       'Lebanon', 'United Arab Emirates', 'Saudi Arabia',\n       'Czech Republic', 'Canada', 'Unspecified', 'Brazil', 'USA',\n       'European Community', 'Malta', 'RSA'], dtype=object)"
     },
     "metadata": {},
     "execution_count": 7
    }
   ],
   "source": [
    "df.Country.unique()"
   ],
   "metadata": {
    "collapsed": false,
    "pycharm": {
     "name": "#%%\n"
    }
   }
  },
  {
   "cell_type": "code",
   "execution_count": 8,
   "outputs": [],
   "source": [
    "df['Description'] = df['Description'].str.strip()"
   ],
   "metadata": {
    "collapsed": false,
    "pycharm": {
     "name": "#%%\n"
    }
   }
  },
  {
   "cell_type": "code",
   "execution_count": 9,
   "outputs": [],
   "source": [
    "df.dropna(axis = 0, subset =['InvoiceNo'], inplace = True)\n",
    "df['InvoiceNo'] = df['InvoiceNo'].astype('str')"
   ],
   "metadata": {
    "collapsed": false,
    "pycharm": {
     "name": "#%%\n"
    }
   }
  },
  {
   "cell_type": "code",
   "execution_count": 10,
   "outputs": [],
   "source": [
    "df = df[~df['InvoiceNo'].str.contains('C')]"
   ],
   "metadata": {
    "collapsed": false,
    "pycharm": {
     "name": "#%%\n"
    }
   }
  },
  {
   "cell_type": "code",
   "execution_count": 11,
   "outputs": [],
   "source": [
    "basket_France = (df[df['Country'] ==\"France\"]\n",
    "          .groupby(['InvoiceNo', 'Description'])['Quantity'].sum()\n",
    "    .unstack().reset_index().fillna(0).set_index('InvoiceNo'))"
   ],
   "metadata": {
    "collapsed": false,
    "pycharm": {
     "name": "#%%\n"
    }
   }
  },
  {
   "cell_type": "code",
   "execution_count": 12,
   "outputs": [],
   "source": [
    "basket_UK = df[df.Country == \"United Kingdom\"].groupby(['InvoiceNo','Description'])['Quantity'].sum()\\\n",
    "    .unstack().reset_index().fillna(0).set_index('InvoiceNo')\n"
   ],
   "metadata": {
    "collapsed": false,
    "pycharm": {
     "name": "#%%\n"
    }
   }
  },
  {
   "cell_type": "code",
   "execution_count": 13,
   "outputs": [],
   "source": [
    "basket_Por = (df[df['Country'] ==\"Portugal\"]\n",
    "          .groupby(['InvoiceNo', 'Description'])['Quantity']\n",
    "          .sum().unstack().reset_index().fillna(0)\n",
    "          .set_index('InvoiceNo'))"
   ],
   "metadata": {
    "collapsed": false,
    "pycharm": {
     "name": "#%%\n"
    }
   }
  },
  {
   "cell_type": "code",
   "execution_count": 14,
   "outputs": [],
   "source": [
    "basket_Sweden = (df[df['Country'] ==\"Sweden\"]\n",
    "          .groupby(['InvoiceNo', 'Description'])['Quantity']\n",
    "          .sum().unstack().reset_index().fillna(0)\n",
    "          .set_index('InvoiceNo'))"
   ],
   "metadata": {
    "collapsed": false,
    "pycharm": {
     "name": "#%%\n"
    }
   }
  },
  {
   "cell_type": "code",
   "execution_count": 15,
   "outputs": [],
   "source": [
    "def hot_encode(x):\n",
    "    if(x<= 0):\n",
    "        return 0\n",
    "    if(x>= 1):\n",
    "        return 1"
   ],
   "metadata": {
    "collapsed": false,
    "pycharm": {
     "name": "#%%\n"
    }
   }
  },
  {
   "cell_type": "code",
   "execution_count": 16,
   "outputs": [],
   "source": [
    "basket_encoded = basket_France.applymap(hot_encode)\n",
    "basket_France = basket_encoded\n",
    "\n",
    "basket_encoded = basket_UK.applymap(hot_encode)\n",
    "basket_UK = basket_encoded\n",
    "\n",
    "basket_encoded = basket_Por.applymap(hot_encode)\n",
    "basket_Por = basket_encoded\n",
    "\n",
    "basket_encoded = basket_Sweden.applymap(hot_encode)\n",
    "basket_Sweden = basket_encoded"
   ],
   "metadata": {
    "collapsed": false,
    "pycharm": {
     "name": "#%%\n"
    }
   }
  },
  {
   "cell_type": "code",
   "execution_count": 17,
   "outputs": [
    {
     "output_type": "stream",
     "name": "stdout",
     "text": "antecedents  \\\n45                        (JUMBO BAG WOODLAND ANIMALS)   \n259  (RED TOADSTOOL LED NIGHT LIGHT, PLASTERS IN TI...   \n270  (RED TOADSTOOL LED NIGHT LIGHT, PLASTERS IN TI...   \n301  (SET/20 RED RETROSPOT PAPER NAPKINS, SET/6 RED...   \n302  (SET/6 RED SPOTTY PAPER PLATES, SET/20 RED RET...   \n\n                         consequents  antecedent support  consequent support  \\\n45                         (POSTAGE)            0.076531            0.765306   \n259                        (POSTAGE)            0.051020            0.765306   \n270                        (POSTAGE)            0.053571            0.765306   \n301  (SET/6 RED SPOTTY PAPER PLATES)            0.102041            0.127551   \n302    (SET/6 RED SPOTTY PAPER CUPS)            0.102041            0.137755   \n\n      support  confidence      lift  leverage  conviction  \n45   0.076531       1.000  1.306667  0.017961         inf  \n259  0.051020       1.000  1.306667  0.011974         inf  \n270  0.053571       1.000  1.306667  0.012573         inf  \n301  0.099490       0.975  7.644000  0.086474   34.897959  \n302  0.099490       0.975  7.077778  0.085433   34.489796  \n"
    }
   ],
   "source": [
    "frq_items = apriori(basket_France, min_support = 0.05, use_colnames = True)\n",
    "\n",
    "\n",
    "rules = association_rules(frq_items, metric =\"lift\", min_threshold = 1)\n",
    "rules = rules.sort_values(['confidence', 'lift'], ascending =[False, False])\n",
    "print(rules.head())"
   ],
   "metadata": {
    "collapsed": false,
    "pycharm": {
     "name": "#%%\n"
    },
    "tags": []
   }
  },
  {
   "cell_type": "code",
   "execution_count": 18,
   "outputs": [
    {
     "output_type": "error",
     "ename": "MemoryError",
     "evalue": "Unable to allocate 87.1 GiB for an array with shape (313236, 2, 18667) and data type int64",
     "traceback": [
      "\u001b[1;31m---------------------------------------------------------------------------\u001b[0m",
      "\u001b[1;31mMemoryError\u001b[0m                               Traceback (most recent call last)",
      "\u001b[1;32m<ipython-input-18-f6b0391a6bfa>\u001b[0m in \u001b[0;36m<module>\u001b[1;34m\u001b[0m\n\u001b[1;32m----> 1\u001b[1;33m \u001b[0mfrq_items\u001b[0m \u001b[1;33m=\u001b[0m \u001b[0mapriori\u001b[0m\u001b[1;33m(\u001b[0m\u001b[0mbasket_UK\u001b[0m\u001b[1;33m,\u001b[0m \u001b[0mmin_support\u001b[0m \u001b[1;33m=\u001b[0m \u001b[1;36m0.01\u001b[0m\u001b[1;33m,\u001b[0m \u001b[0muse_colnames\u001b[0m \u001b[1;33m=\u001b[0m \u001b[1;32mTrue\u001b[0m\u001b[1;33m)\u001b[0m\u001b[1;33m\u001b[0m\u001b[1;33m\u001b[0m\u001b[0m\n\u001b[0m\u001b[0;32m      2\u001b[0m \u001b[0mrules\u001b[0m \u001b[1;33m=\u001b[0m \u001b[0massociation_rules\u001b[0m\u001b[1;33m(\u001b[0m\u001b[0mfrq_items\u001b[0m\u001b[1;33m,\u001b[0m \u001b[0mmetric\u001b[0m \u001b[1;33m=\u001b[0m\u001b[1;34m\"lift\"\u001b[0m\u001b[1;33m,\u001b[0m \u001b[0mmin_threshold\u001b[0m \u001b[1;33m=\u001b[0m \u001b[1;36m1\u001b[0m\u001b[1;33m)\u001b[0m\u001b[1;33m\u001b[0m\u001b[1;33m\u001b[0m\u001b[0m\n\u001b[0;32m      3\u001b[0m \u001b[0mrules\u001b[0m \u001b[1;33m=\u001b[0m \u001b[0mrules\u001b[0m\u001b[1;33m.\u001b[0m\u001b[0msort_values\u001b[0m\u001b[1;33m(\u001b[0m\u001b[1;33m[\u001b[0m\u001b[1;34m'confidence'\u001b[0m\u001b[1;33m,\u001b[0m \u001b[1;34m'lift'\u001b[0m\u001b[1;33m]\u001b[0m\u001b[1;33m,\u001b[0m \u001b[0mascending\u001b[0m \u001b[1;33m=\u001b[0m\u001b[1;33m[\u001b[0m\u001b[1;32mFalse\u001b[0m\u001b[1;33m,\u001b[0m \u001b[1;32mFalse\u001b[0m\u001b[1;33m]\u001b[0m\u001b[1;33m)\u001b[0m\u001b[1;33m\u001b[0m\u001b[1;33m\u001b[0m\u001b[0m\n\u001b[0;32m      4\u001b[0m \u001b[0mprint\u001b[0m\u001b[1;33m(\u001b[0m\u001b[0mrules\u001b[0m\u001b[1;33m.\u001b[0m\u001b[0mhead\u001b[0m\u001b[1;33m(\u001b[0m\u001b[1;33m)\u001b[0m\u001b[1;33m)\u001b[0m\u001b[1;33m\u001b[0m\u001b[1;33m\u001b[0m\u001b[0m\n",
      "\u001b[1;32m~\\anaconda3\\envs\\tensorflow\\lib\\site-packages\\mlxtend\\frequent_patterns\\apriori.py\u001b[0m in \u001b[0;36mapriori\u001b[1;34m(df, min_support, use_colnames, max_len, verbose, low_memory)\u001b[0m\n\u001b[0;32m    300\u001b[0m                     \u001b[0m_bools\u001b[0m \u001b[1;33m=\u001b[0m \u001b[0m_bools\u001b[0m \u001b[1;33m&\u001b[0m \u001b[1;33m(\u001b[0m\u001b[0mX\u001b[0m\u001b[1;33m[\u001b[0m\u001b[1;33m:\u001b[0m\u001b[1;33m,\u001b[0m \u001b[0mcombin\u001b[0m\u001b[1;33m[\u001b[0m\u001b[1;33m:\u001b[0m\u001b[1;33m,\u001b[0m \u001b[0mn\u001b[0m\u001b[1;33m]\u001b[0m\u001b[1;33m]\u001b[0m \u001b[1;33m==\u001b[0m \u001b[0mall_ones\u001b[0m\u001b[1;33m)\u001b[0m\u001b[1;33m\u001b[0m\u001b[1;33m\u001b[0m\u001b[0m\n\u001b[0;32m    301\u001b[0m             \u001b[1;32melse\u001b[0m\u001b[1;33m:\u001b[0m\u001b[1;33m\u001b[0m\u001b[1;33m\u001b[0m\u001b[0m\n\u001b[1;32m--> 302\u001b[1;33m                 \u001b[0m_bools\u001b[0m \u001b[1;33m=\u001b[0m \u001b[0mnp\u001b[0m\u001b[1;33m.\u001b[0m\u001b[0mall\u001b[0m\u001b[1;33m(\u001b[0m\u001b[0mX\u001b[0m\u001b[1;33m[\u001b[0m\u001b[1;33m:\u001b[0m\u001b[1;33m,\u001b[0m \u001b[0mcombin\u001b[0m\u001b[1;33m]\u001b[0m\u001b[1;33m,\u001b[0m \u001b[0maxis\u001b[0m\u001b[1;33m=\u001b[0m\u001b[1;36m2\u001b[0m\u001b[1;33m)\u001b[0m\u001b[1;33m\u001b[0m\u001b[1;33m\u001b[0m\u001b[0m\n\u001b[0m\u001b[0;32m    303\u001b[0m \u001b[1;33m\u001b[0m\u001b[0m\n\u001b[0;32m    304\u001b[0m             \u001b[0msupport\u001b[0m \u001b[1;33m=\u001b[0m \u001b[0m_support\u001b[0m\u001b[1;33m(\u001b[0m\u001b[0mnp\u001b[0m\u001b[1;33m.\u001b[0m\u001b[0marray\u001b[0m\u001b[1;33m(\u001b[0m\u001b[0m_bools\u001b[0m\u001b[1;33m)\u001b[0m\u001b[1;33m,\u001b[0m \u001b[0mrows_count\u001b[0m\u001b[1;33m,\u001b[0m \u001b[0mis_sparse\u001b[0m\u001b[1;33m)\u001b[0m\u001b[1;33m\u001b[0m\u001b[1;33m\u001b[0m\u001b[0m\n",
      "\u001b[1;31mMemoryError\u001b[0m: Unable to allocate 87.1 GiB for an array with shape (313236, 2, 18667) and data type int64"
     ]
    }
   ],
   "source": [
    "frq_items = apriori(basket_UK, min_support = 0.01, use_colnames = True)\n",
    "rules = association_rules(frq_items, metric =\"lift\", min_threshold = 1)\n",
    "rules = rules.sort_values(['confidence', 'lift'], ascending =[False, False])\n",
    "print(rules.head())"
   ],
   "metadata": {
    "collapsed": false,
    "pycharm": {
     "name": "#%%\n"
    }
   }
  },
  {
   "cell_type": "code",
   "execution_count": 19,
   "outputs": [
    {
     "output_type": "stream",
     "name": "stdout",
     "text": "antecedents                         consequents  \\\n1170     (SET 12 COLOUR PENCILS SPACEBOY)  (SET 12 COLOUR PENCILS DOLLY GIRL)   \n1171   (SET 12 COLOUR PENCILS DOLLY GIRL)    (SET 12 COLOUR PENCILS SPACEBOY)   \n1172   (SET 12 COLOUR PENCILS DOLLY GIRL)  (SET OF 4 KNICK KNACK TINS LONDON)   \n1173   (SET OF 4 KNICK KNACK TINS LONDON)  (SET 12 COLOUR PENCILS DOLLY GIRL)   \n1174  (SET OF 4 KNICK KNACK TINS POPPIES)  (SET 12 COLOUR PENCILS DOLLY GIRL)   \n\n      antecedent support  consequent support   support  confidence       lift  \\\n1170            0.051724            0.051724  0.051724         1.0  19.333333   \n1171            0.051724            0.051724  0.051724         1.0  19.333333   \n1172            0.051724            0.051724  0.051724         1.0  19.333333   \n1173            0.051724            0.051724  0.051724         1.0  19.333333   \n1174            0.051724            0.051724  0.051724         1.0  19.333333   \n\n      leverage  conviction  \n1170  0.049049         inf  \n1171  0.049049         inf  \n1172  0.049049         inf  \n1173  0.049049         inf  \n1174  0.049049         inf  \n"
    }
   ],
   "source": [
    "frq_items = apriori(basket_Por, min_support = 0.05, use_colnames = True)\n",
    "rules = association_rules(frq_items, metric =\"lift\", min_threshold = 1)\n",
    "rules = rules.sort_values(['confidence', 'lift'], ascending =[False, False])\n",
    "print(rules.head())"
   ],
   "metadata": {
    "collapsed": false,
    "pycharm": {
     "name": "#%%\n"
    },
    "tags": []
   }
  },
  {
   "cell_type": "code",
   "execution_count": 20,
   "outputs": [
    {
     "output_type": "stream",
     "name": "stdout",
     "text": "antecedents                        consequents  \\\n0     (PACK OF 72 SKULL CAKE CASES)      (12 PENCILS SMALL TUBE SKULL)   \n1     (12 PENCILS SMALL TUBE SKULL)      (PACK OF 72 SKULL CAKE CASES)   \n4           (36 DOILIES DOLLY GIRL)     (ASSORTED BOTTLE TOP  MAGNETS)   \n5    (ASSORTED BOTTLE TOP  MAGNETS)            (36 DOILIES DOLLY GIRL)   \n180  (CHILDRENS CUTLERY DOLLY GIRL)  (CHILDRENS CUTLERY CIRCUS PARADE)   \n\n     antecedent support  consequent support   support  confidence  lift  \\\n0              0.055556            0.055556  0.055556         1.0  18.0   \n1              0.055556            0.055556  0.055556         1.0  18.0   \n4              0.055556            0.055556  0.055556         1.0  18.0   \n5              0.055556            0.055556  0.055556         1.0  18.0   \n180            0.055556            0.055556  0.055556         1.0  18.0   \n\n     leverage  conviction  \n0    0.052469         inf  \n1    0.052469         inf  \n4    0.052469         inf  \n5    0.052469         inf  \n180  0.052469         inf  \n"
    }
   ],
   "source": [
    "frq_items = apriori(basket_Sweden, min_support = 0.05, use_colnames = True)\n",
    "rules = association_rules(frq_items, metric =\"lift\", min_threshold = 1)\n",
    "rules = rules.sort_values(['confidence', 'lift'], ascending =[False, False])\n",
    "print(rules.head())\n"
   ],
   "metadata": {
    "collapsed": false,
    "pycharm": {
     "name": "#%%\n"
    },
    "tags": []
   }
  }
 ],
 "metadata": {
  "kernelspec": {
   "display_name": "Python 3",
   "language": "python",
   "name": "python3"
  },
  "language_info": {
   "codemirror_mode": {
    "name": "ipython",
    "version": 2
   },
   "file_extension": ".py",
   "mimetype": "text/x-python",
   "name": "python",
   "nbconvert_exporter": "python",
   "pygments_lexer": "ipython2",
   "version": "3.8.3-final"
  }
 },
 "nbformat": 4,
 "nbformat_minor": 0
}