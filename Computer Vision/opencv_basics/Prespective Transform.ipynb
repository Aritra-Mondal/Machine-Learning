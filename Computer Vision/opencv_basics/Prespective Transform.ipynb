{
 "cells": [
  {
   "cell_type": "code",
   "execution_count": 2,
   "metadata": {
    "collapsed": true
   },
   "outputs": [],
   "source": [
    "import cv2\n",
    "import numpy as np\n",
    "import matplotlib.pyplot as plt\n",
    "\n",
    "image = cv2.imread(\"F:\\\\Master OpenCV\\\\images\\\\scan.jpg\")\n",
    "cv2.imshow(\"Original\",image)\n",
    "cv2.waitKey()\n",
    "\n",
    "points_A = np.float32([[320,15],[700,215],[85,610],[530,780]])\n",
    "points_B = np.float32([[0,0],[420,0],[0,594],[420,594]])\n",
    "\n",
    "M = cv2.getPerspectiveTransform(points_A,points_B)\n",
    "\n",
    "wraped = cv2.warpPerspective(image,M,(420,594))\n",
    "cv2.imshow('wrapPrespective',wraped)\n",
    "cv2.waitKey(0)\n",
    "cv2.destroyAllWindows()"
   ]
  },
  {
   "cell_type": "code",
   "execution_count": 4,
   "outputs": [],
   "source": [
    "import cv2\n",
    "import numpy as np\n",
    "\n",
    "image = cv2.imread(\"F:\\\\Master OpenCV\\\\images\\\\ex2.jpg\")\n",
    "row,col,color = image.shape\n",
    "cv2.imshow(\"Original\",image)\n",
    "cv2.waitKey()\n",
    "\n",
    "points_A = np.float32([[320,15],[700,215],[85,610]])\n",
    "points_B = np.float32([[0,0],[420,0],[0,594]])\n",
    "\n",
    "M = cv2.getAffineTransform(points_A,points_B)\n",
    "\n",
    "wraped = cv2.warpAffine(image,M,(col,row))\n",
    "cv2.imshow('wrapAffine',wraped)\n",
    "cv2.waitKey(0)\n",
    "cv2.destroyAllWindows()"
   ],
   "metadata": {
    "collapsed": false,
    "pycharm": {
     "name": "#%%\n"
    }
   }
  },
  {
   "cell_type": "code",
   "execution_count": null,
   "outputs": [],
   "source": [
    "\n"
   ],
   "metadata": {
    "collapsed": false,
    "pycharm": {
     "name": "#%%\n"
    }
   }
  }
 ],
 "metadata": {
  "kernelspec": {
   "display_name": "Python 3",
   "language": "python",
   "name": "python3"
  },
  "language_info": {
   "codemirror_mode": {
    "name": "ipython",
    "version": 2
   },
   "file_extension": ".py",
   "mimetype": "text/x-python",
   "name": "python",
   "nbconvert_exporter": "python",
   "pygments_lexer": "ipython2",
   "version": "2.7.6"
  }
 },
 "nbformat": 4,
 "nbformat_minor": 0
}